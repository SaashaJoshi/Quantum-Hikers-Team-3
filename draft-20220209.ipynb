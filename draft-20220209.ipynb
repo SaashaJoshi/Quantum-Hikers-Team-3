{
 "cells": [
  {
   "cell_type": "markdown",
   "id": "97ffdb3a-b87a-4135-b9e2-44294ed2b816",
   "metadata": {
    "tags": []
   },
   "source": [
    "# draft 20220209\n",
    "\n",
    "To avoid git conflict with others modification, I create a new notebook with most code copied from the previous one `load_data.ipynb`\n",
    "\n",
    "TLDR\n",
    "\n",
    "1. code below takes less than 5 minutes to finish.\n",
    "2. `anti_alising=True` improve score greatly for both QSVM and QNN\n",
    "3. different `resize_image_size` (equivalently number of qubits) helps a little bit, but not remarkable. \n",
    "4. no large difference between `QSVM` and `QNN` results\n",
    "5. results with different parameter need only one line of code (see `QSVM/QNN all in one` section), please try it\n",
    "\n",
    "**reminder** to run the code quickly, remember to set `class_size=24` in `load_data` section. `class_size=240` might spend several hours.\n",
    "\n",
    "TODO (but time maybe not enough)\n",
    "\n",
    "1. real quantum computer device?\n",
    "2. `class_size=240`\n",
    "3. other labels: `alpha`, `beta`, etc.\n",
    "\n",
    "Table of Content\n",
    "\n",
    "1. how `skimage.transform.resize` works\n",
    "   * `skimage.transform.resize` on 1-d image\n",
    "   * `skimage.transform.resize` on 2-d image\n",
    "2. load data\n",
    "   * plot part of images and resized images\n",
    "   * select training set and test set\n",
    "3. quantum SVM (QSVM) model\n",
    "4. QSVM all in one\n",
    "   * compare `anti_alising=True` and `anti_alising=False`\n",
    "   * compare `resize_image_size`\n",
    "5. quantum Neural Network (QNN) model\n",
    "6. QNN all in one\n",
    "   * compare `anti_alising=True` and `anti_alising=False`\n",
    "   * compare `resize_image_size`"
   ]
  },
  {
   "cell_type": "code",
   "execution_count": 1,
   "id": "6954013d-c9f1-457c-8d4e-ac13a7aaabcb",
   "metadata": {},
   "outputs": [],
   "source": [
    "import os\n",
    "import glob\n",
    "import json\n",
    "import hashlib\n",
    "import PIL.Image\n",
    "import numpy as np\n",
    "import matplotlib\n",
    "import matplotlib.patches\n",
    "import matplotlib.pyplot as plt\n",
    "\n",
    "import skimage\n",
    "import sklearn.model_selection\n",
    "import sklearn.svm\n",
    "\n",
    "import concurrent.futures\n",
    "import qiskit\n",
    "import qiskit.providers.aer\n",
    "from qiskit.circuit.library import ZFeatureMap, ZZFeatureMap, PauliFeatureMap, TwoLocal\n",
    "from qiskit.algorithms.optimizers import SPSA, COBYLA, GradientDescent\n",
    "from qiskit_machine_learning.kernels import QuantumKernel\n",
    "from qiskit_machine_learning.neural_networks import CircuitQNN\n",
    "from qiskit_machine_learning.algorithms.classifiers import NeuralNetworkClassifier\n",
    "from qiskit_machine_learning.utils.loss_functions import L2Loss, CrossEntropyLoss"
   ]
  },
  {
   "cell_type": "markdown",
   "id": "de7561d4-378e-4784-88a0-b26786f82d7e",
   "metadata": {
    "jp-MarkdownHeadingCollapsed": true,
    "tags": []
   },
   "source": [
    "## how `skimage.transform.resize` works\n",
    "\n",
    "TLDR\n",
    "\n",
    "1. `skimage.transform.resize()` is the bilinear interpolation scheme [wiki](https://en.wikipedia.org/wiki/Bilinear_interpolation)\n",
    "2. `skimage.transform.resize(anti_aliasing=False)` might be not good as `skimage.transform.resize(anti_aliasing=True)` with a suitable `anti_aliasing_sigma` value, since the former only use **part of** pixels (roughly 4 pixels) of the whole image\n",
    "3. when `skimage.transform.resize(anti_aliasing=True, anti_aliasing_sigma=xxx)`, default value for `anti_aliasing_sigma` is `(s-1)/2` where `s` is the downsampling factor, see [skimage-doc](https://scikit-image.org/docs/dev/api/skimage.transform.html#resize). `anti_aliasing_sigma` controls the Gaussian filter"
   ]
  },
  {
   "cell_type": "markdown",
   "id": "6fa32f20-9d37-4234-bc17-fc87fe76e386",
   "metadata": {
    "jp-MarkdownHeadingCollapsed": true,
    "tags": []
   },
   "source": [
    "### `skimage.transform.resize` on 1-d image\n",
    "\n",
    "resize `(height=1,width=8)` image to `(height=1,width=2)`. In the figure below, 8 blue points represents a `(height=1,width=8)` image (the pixel position), 2 orange points represents a `(height=1,width=2)` image that downsampling from `(height=1,width=8)` image.\n",
    "\n",
    "when `anti_aliasing=False`, only the 4 points in red boxes make contribution to the downsampled image, points in the left (right) box contribute to the left (right) pixel by some linear combinations."
   ]
  },
  {
   "cell_type": "code",
   "execution_count": 2,
   "id": "bf3cd052-5a3f-4ea4-a883-d3fb0a7f83c9",
   "metadata": {},
   "outputs": [
    {
     "data": {
      "image/png": "[encoded data removed]",
      "text/plain": [
       "<Figure size 432x288 with 1 Axes>"
      ]
     },
     "metadata": {
      "needs_background": "light"
     },
     "output_type": "display_data"
    }
   ],
   "source": [
    "# downsample (height=1,width=8) image to (height=1,width=2) image\n",
    "hf0 = lambda x: np.arange(1, 2*x, 2)/(2*x)\n",
    "pixel8 = hf0(8)\n",
    "pixel2 = hf0(2)\n",
    "\n",
    "fig,ax = plt.subplots()\n",
    "ax.plot(pixel8, np.ones_like(pixel8)*3, '.', markersize=30, label='pixel8')\n",
    "ax.plot(pixel2, np.ones_like(pixel2)*1, '.', markersize=30, label='pixel2')\n",
    "ax.add_patch(matplotlib.patches.Rectangle((0.15,2.5),height=1,width=0.2,fill=False,color='r',label='used pixel'))\n",
    "ax.add_patch(matplotlib.patches.Rectangle((0.65,2.5),height=1,width=0.2,fill=False,color='r'))\n",
    "ax.legend()\n",
    "ax.set_xlim(0,1)\n",
    "_ = ax.set_ylim(0, 5)"
   ]
  },
  {
   "cell_type": "code",
   "execution_count": 3,
   "id": "dc4427a9-b803-4be2-8fbf-e4319db39bfe",
   "metadata": {},
   "outputs": [
    {
     "name": "stdout",
     "output_type": "stream",
     "text": [
      "image_pixel8: [[0.5193 0.0373 0.1042 0.6052 0.1514 0.6837 0.6324 0.5045]]\n",
      "image_pixel2: [[0.0707 0.6581]]\n",
      "image_pixel8_modified: [[0.7303 0.0373 0.1042 0.6052 0.1514 0.6837 0.6324 0.5045]]\n",
      "image_pixel2_modified: [[0.0707 0.6581]]\n"
     ]
    }
   ],
   "source": [
    "# randomly generate a (height=1,width=8) image (image_pixel8), and modified one unused pixel (image_pixel8_modified)\n",
    "# downsampling two images above with anti_aliasing=False will get exactly the same results, image_pixel2 and image_pixel2_modified,\n",
    "# which means that pixel has no contribution.\n",
    "# you can also try anti_aliasing=True, then almost all pixels should have contribution\n",
    "anti_aliasing = False\n",
    "\n",
    "image_pixel8 = np.random.rand(1, 8)\n",
    "image_pixel2 = skimage.transform.resize(image_pixel8, (1, 2), order=1, anti_aliasing=anti_aliasing)\n",
    "\n",
    "image_pixel8_modified = image_pixel8.copy()\n",
    "image_pixel8_modified[0,0] = np.random.rand() #replace one unused pixel (pixel-0) to a random value\n",
    "image_pixel2_modified = skimage.transform.resize(image_pixel8_modified, (1, 2), order=1, anti_aliasing=anti_aliasing)\n",
    "\n",
    "np.set_printoptions(precision=4, linewidth=220)\n",
    "print('image_pixel8:', image_pixel8)\n",
    "print('image_pixel2:', image_pixel2)\n",
    "print('image_pixel8_modified:', image_pixel8_modified)\n",
    "print('image_pixel2_modified:', image_pixel2_modified) #should be the same as image_pixel2 when anti_aliasing=False"
   ]
  },
  {
   "cell_type": "markdown",
   "id": "bc24efa7-e760-4368-b804-191a6ef7e785",
   "metadata": {
    "jp-MarkdownHeadingCollapsed": true,
    "tags": []
   },
   "source": [
    "### `skimage.transform.resize` on 2-d image\n",
    "\n",
    "resize `(height=8,width=8)` image to `(height=2,width=2)`"
   ]
  },
  {
   "cell_type": "code",
   "execution_count": 4,
   "id": "fd034033-2a1a-48f6-aaea-1b553e325484",
   "metadata": {},
   "outputs": [
    {
     "name": "stdout",
     "output_type": "stream",
     "text": [
      "image_pixel2:\n",
      " [[0.6141 0.3825]\n",
      " [0.5852 0.5303]]\n",
      "image_pixel2_modified:\n",
      " [[0.6141 0.3825]\n",
      " [0.5852 0.5303]]\n"
     ]
    }
   ],
   "source": [
    "anti_aliasing = False\n",
    "\n",
    "image_pixel8 = np.random.rand(8, 8)\n",
    "image_pixel2 = skimage.transform.resize(image_pixel8, (2, 2), order=1, anti_aliasing=anti_aliasing)\n",
    "\n",
    "image_pixel8_modified = image_pixel8.copy()\n",
    "image_pixel8_modified[0,0] = np.random.rand() #replace one unused pixel (pixel-0) to a random value\n",
    "image_pixel2_modified = skimage.transform.resize(image_pixel8_modified, (2, 2), order=1, anti_aliasing=anti_aliasing)\n",
    "\n",
    "np.set_printoptions(precision=4, linewidth=220)\n",
    "# print('image_pixel8:', image_pixel8)\n",
    "print('image_pixel2:\\n', image_pixel2)\n",
    "# print('image_pixel8_modified:', image_pixel8_modified)\n",
    "print('image_pixel2_modified:\\n', image_pixel2_modified) #should be the same as image_pixel2 when anti_aliasing=False"
   ]
  },
  {
   "cell_type": "markdown",
   "id": "68afcd99-b515-4957-8199-1ee9ecfc2f1c",
   "metadata": {
    "jp-MarkdownHeadingCollapsed": true,
    "tags": []
   },
   "source": [
    "## load data\n",
    "\n",
    "download dataset from kaggle [https://www.kaggle.com/xainano/handwrittenmathsymbols](https://www.kaggle.com/xainano/handwrittenmathsymbols) (a large `rar` file within `zip` file), and extract the images. The folder structure should be similar as below\n",
    "\n",
    "```bash\n",
    "Team-3-Quantum-Hackers-Project/\n",
    "├── README.md\n",
    "├── LICENSE\n",
    "├── .gitignore\n",
    "├── load_data.ipynb\n",
    "└── extracted_images/\n",
    "    ├── 0/\n",
    "    |   ├── 0_100070.jpg\n",
    "    |   ├── 0_100080.jpg\n",
    "    |   ├── 0_100081.jpg\n",
    "    |   └── ...\n",
    "    ├── 1/\n",
    "    ├── !/\n",
    "    ├── (/\n",
    "    ├── )/\n",
    "    └── ...\n",
    "```"
   ]
  },
  {
   "cell_type": "code",
   "execution_count": 5,
   "id": "402b12e5-99fc-487c-845d-030a26a80094",
   "metadata": {},
   "outputs": [
    {
     "name": "stdout",
     "output_type": "stream",
     "text": [
      "all label: ['beta', 'infty', 'cos', '6', '0', 'prime', '=', 'gt', 'o', 'lt', 'y', 'b', '!', 'T', 'C', 'leq', 'R', 'exists', 'p', 'N', '3', '{', 'H', 'z', 'ascii_124', 'alpha', 'sigma', '9', 'int', 'q', 'l', 'lambda', 'A', 'theta', '2', 'S', '5', 'sqrt', '7', 'sum', '4', 'v', 'e', 'M', 'forall', 'j', '-', ')', '1', 'w', '(', 'phi', 'i', ',', 'lim', 'Delta', 'G', '8', 'u', 'k', 'rightarrow', 'div', 'neq', '[', 'pi', ']', 'f', 'geq', 'pm', 'forward_slash', 'gamma', '}', 'X', '+', 'times', 'log', 'tan', 'd', 'in', 'sin', 'ldots', 'mu']\n",
      "some image path:\n",
      "beta ['extracted_images/beta/beta_57145.jpg', 'extracted_images/beta/exp26500.jpg']\n",
      "infty ['extracted_images/infty/exp96368.jpg', 'extracted_images/infty/exp78043.jpg']\n",
      "cos ['extracted_images/cos/exp48148.jpg', 'extracted_images/cos/exp91430.jpg']\n",
      "6 ['extracted_images/6/exp22030.jpg', 'extracted_images/6/6_56393.jpg']\n"
     ]
    }
   ],
   "source": [
    "# get filepath and label of all images\n",
    "datadir = 'extracted_images'\n",
    "all_label = os.listdir(datadir)\n",
    "all_image_path = {x:[os.path.join(datadir,x,y) for y in os.listdir(os.path.join(datadir,x))] for x in all_label}\n",
    "\n",
    "print('all label:', all_label)\n",
    "print('some image path:')\n",
    "for x in list(all_image_path.keys())[:4]:\n",
    "    print(x, all_image_path[x][:2])"
   ]
  },
  {
   "cell_type": "markdown",
   "id": "38010da5-f574-4fda-8722-9477122ff151",
   "metadata": {},
   "source": [
    "### Plot parts of images and resized images"
   ]
  },
  {
   "cell_type": "code",
   "execution_count": 63,
   "id": "15a32463-7233-471e-935c-5f7cb76bf467",
   "metadata": {},
   "outputs": [
    {
     "data": {
      "image/png": "[encoded data removed]",
      "text/plain": [
       "<Figure size 1296x360 with 16 Axes>"
      ]
     },
     "metadata": {},
     "output_type": "display_data"
    }
   ],
   "source": [
    "# hyper-parameter, modify below to see the effects\n",
    "plot_label_list = ['alpha', 'beta']# ['0', '1', 'alpha', 'beta']\n",
    "num_column = 4\n",
    "resize_image_size = 2,2\n",
    "anti_aliasing = True\n",
    "anti_aliasing_sigma = None #default to (s-1)/2 where s=45/2 is the downsamplign factor\n",
    "\n",
    "# plot function\n",
    "fig, ax_list = plt.subplots(nrows=len(plot_label_list), ncols=2*num_column, figsize=(18, 5))\n",
    "for i in range(len(plot_label_list)):\n",
    "    image_list = all_image_path[plot_label_list[i]]\n",
    "    random_index = np.random.choice(np.arange(len(image_list)), size=num_column)\n",
    "    for j in range(num_column):\n",
    "        path = image_list[random_index[j]]\n",
    "        image = np.array(PIL.Image.open(path))\n",
    "        image_small = skimage.transform.resize(image, resize_image_size,\n",
    "                           anti_aliasing=anti_aliasing, anti_aliasing_sigma=anti_aliasing_sigma)\n",
    "        ax_list[i,2*j].imshow(image, cmap=plt.cm.gray_r)\n",
    "        ax_list[i,2*j].set_xticks([])\n",
    "        ax_list[i,2*j].set_yticks([])\n",
    "        ax_list[i,2*j+1].imshow(image_small, cmap=plt.cm.gray_r)\n",
    "        ax_list[i,2*j+1].set_xticks([])\n",
    "        ax_list[i,2*j+1].set_yticks([])\n",
    "# fig.savefig('fig/draft20220209/sample-image.png', dpi=100)"
   ]
  },
  {
   "cell_type": "markdown",
   "id": "beb7dcda-0712-4f12-8d50-45fc88d09c04",
   "metadata": {},
   "source": [
    "### select training set and test set\n",
    "\n",
    "1. select label\n",
    "2. select part of the data, otherwise itt takes too long to train on the whole dataset\n",
    "3. split train and test set"
   ]
  },
  {
   "cell_type": "code",
   "execution_count": 16,
   "id": "e909fc38-fe61-432a-ba90-0ea715133a17",
   "metadata": {},
   "outputs": [
    {
     "name": "stdout",
     "output_type": "stream",
     "text": [
      "x_train include 160 images, each of size (45,45), range from 0.0 to 1.0\n",
      "x_test include 40 images, each of size (45,45), range from 0.0 to 1.0\n"
     ]
    }
   ],
   "source": [
    "# hyper-parameter, you can modify it to choose different label, etc.\n",
    "seed = 42 #to fix the result, change it to seed=23 or some other integer or None\n",
    "labels = ['alpha', 'beta'] #binary classification\n",
    "label_to_int = {labels[0]:0, labels[1]:1}\n",
    "#class_size=240 will take roughly half an hour to train, class_size=24 will take roughly 1 minutes\n",
    "class_size = 100\n",
    "\n",
    "data_list = []\n",
    "label_list = []\n",
    "for x in labels:\n",
    "    image_list = all_image_path[x]\n",
    "    random_index = np.random.choice(np.arange(len(image_list)), size=class_size)\n",
    "    for i in random_index:\n",
    "        path = image_list[i]\n",
    "        data_list.append(np.array(PIL.Image.open(image_list[i])))\n",
    "        label_list.append(label_to_int[x])\n",
    "\n",
    "# data_list = [skimage.transform.resize(x, resize_image_size, anti_aliasing=False).reshape(-1) for x in data_list]\n",
    "data_list = np.stack(data_list)/255 #normalized to [0,1]\n",
    "label_list = np.array(label_list)\n",
    "x_train, x_test, y_train, y_test = sklearn.model_selection.train_test_split(\n",
    "            data_list, label_list, test_size=0.2, shuffle=True, random_state=seed)\n",
    "print('x_train include {} images, each of size ({},{}), range from {} to {}'.format(*x_train.shape, x_train.min(), x_train.max()))\n",
    "print('x_test include {} images, each of size ({},{}), range from {} to {}'.format(*x_test.shape, x_test.min(), x_test.max()))"
   ]
  },
  {
   "cell_type": "markdown",
   "id": "6564ac62-1008-42c4-8d30-a334d712f375",
   "metadata": {},
   "source": [
    "auxiliary function to save and load result\n",
    "\n",
    "since training time is quite long, we can save the computed result and load it next time."
   ]
  },
  {
   "cell_type": "markdown",
   "id": "717407f9-d587-4610-81cf-56d743919d08",
   "metadata": {
    "jp-MarkdownHeadingCollapsed": true,
    "tags": []
   },
   "source": [
    "## misc function"
   ]
  },
  {
   "cell_type": "code",
   "execution_count": 8,
   "id": "f75b021c-411a-488e-b7c9-8149654761bf",
   "metadata": {},
   "outputs": [],
   "source": [
    "import qiskit.providers.ibmq\n",
    "\n",
    "# save ibmq_token from ibmq website to ~/qiskit_token.txt\n",
    "with open(os.path.expanduser('~/qiskit_token.txt'), 'r') as fid:\n",
    "    IBMQ_TOKEN = fid.read().strip()\n",
    "if 'ibmq_provider' not in locals():\n",
    "    # ibmq_provider = qiskit.providers.ibmq.IBMQ.enable_account(IBMQ_TOKEN, group='open', hub='ibm-q', project='main')\n",
    "    ibmq_provider = qiskit.providers.ibmq.IBMQ.enable_account(IBMQ_TOKEN,\n",
    "                                  group='qscitech-quantum', hub='ibm-q-education', project='qc-bc-workshop')\n",
    "ibmq_jakarta = ibmq_provider.get_backend('ibmq_jakarta')\n",
    "qiskit.visualization.plot_error_map(ibmq_jakarta)\n",
    "qi_ibmq = qiskit.utils.QuantumInstance(ibmq_jakarta, shots=1024) #initial_layout=[4,]"
   ]
  },
  {
   "cell_type": "code",
   "execution_count": 14,
   "id": "f4d6442e-35d5-47ce-b176-28cb15305d14",
   "metadata": {},
   "outputs": [],
   "source": [
    "RESULT_DIR = 'result'\n",
    "\n",
    "def save_result(param, **kwargs):\n",
    "    param['class_size'] = class_size #number of sample per label\n",
    "    param['labels'] = labels\n",
    "    if not os.path.exists(RESULT_DIR):\n",
    "        os.makedirs(RESULT_DIR)\n",
    "    tmp0 = json.dumps(param)\n",
    "    filename = int(hashlib.sha1(tmp0.encode(\"utf-8\")).hexdigest(), 16) % (10 ** 8) #use hash as filename\n",
    "    filepath = os.path.join(RESULT_DIR, f'{filename}.json')\n",
    "    for key,value in kwargs.items():\n",
    "        if isinstance(value,np.ndarray):\n",
    "            kwargs[key] = value.tolist()\n",
    "    kwargs['param'] = param\n",
    "    with open(filepath, 'w', encoding='utf-8') as fid:\n",
    "        json.dump(kwargs, fid, indent=4)\n",
    "    print(f'result saved to \"{filepath}\"')\n",
    "    return filepath\n",
    "\n",
    "\n",
    "def load_result(hashkey):\n",
    "    filepath = os.path.join(RESULT_DIR, f'{hashkey}.json')\n",
    "    assert os.path.exists(filepath)\n",
    "    with open(filepath, 'r', encoding='utf-8') as fid:\n",
    "        ret = json.load(fid)\n",
    "    param = ret.pop('param')\n",
    "    return param, ret"
   ]
  },
  {
   "cell_type": "markdown",
   "id": "6acac2f3-55d2-438e-8af4-b6bac726aab3",
   "metadata": {
    "tags": []
   },
   "source": [
    "### FRQI featuremap [link](https://qiskit.org/textbook/ch-applications/image-processing-frqi-neqr.html#2.-Building-the-FRQI-State:-A-Two-Step-Process)"
   ]
  },
  {
   "cell_type": "code",
   "execution_count": 10,
   "id": "df6cbd3e-8b59-4882-aeb3-b97cad2b4ae4",
   "metadata": {},
   "outputs": [],
   "source": [
    "def frqi_state(feature_dim):\n",
    "    assert feature_dim==4\n",
    "    qc = qiskit.QuantumCircuit(feature_dim)\n",
    "    theta = qiskit.circuit.ParameterVector('theta', feature_dim)\n",
    "        \n",
    "    qc.h(0)\n",
    "    qc.h(1)\n",
    "\n",
    "    qc.barrier()\n",
    "    #Pixel 1\n",
    "\n",
    "    qc.cry(theta[0],0,2)\n",
    "    qc.cx(0,1)\n",
    "    qc.cry(-theta[0],1,2)\n",
    "    qc.cx(0,1)\n",
    "    qc.cry(theta[0],1,2)\n",
    "\n",
    "    qc.barrier()\n",
    "    #Pixel 2\n",
    "\n",
    "    qc.x(1)\n",
    "    qc.cry(theta[1],0,2)\n",
    "    qc.cx(0,1)\n",
    "    qc.cry(-theta[1],1,2)\n",
    "    qc.cx(0,1)\n",
    "    qc.cry(theta[1],1,2)\n",
    "    qc.x(1)\n",
    "\n",
    "    qc.barrier()\n",
    "\n",
    "#     qc.x(1)\n",
    "    qc.x(0)\n",
    "    qc.cry(theta[2],0,2)\n",
    "    qc.cx(0,1)\n",
    "    qc.cry(-theta[2],1,2)\n",
    "    qc.cx(0,1)\n",
    "    qc.cry(theta[2],1,2)\n",
    "    qc.x(0)\n",
    "\n",
    "    qc.barrier()\n",
    "\n",
    "    qc.x(1)\n",
    "    qc.x(0)\n",
    "    qc.cry(theta[3],0,2)\n",
    "    qc.cx(0,1)\n",
    "    qc.cry(-theta[3],1,2)\n",
    "    qc.cx(0,1)\n",
    "    qc.cry(theta[3],1,2)\n",
    "    qc.x(1)\n",
    "    qc.x(0)\n",
    "    \n",
    "    qc.barrier()\n",
    "    \n",
    "#     qc.h(0)\n",
    "#     qc.h(1)\n",
    "\n",
    "    return qc"
   ]
  },
  {
   "cell_type": "markdown",
   "id": "2905c574-8b13-4e1d-aaa1-e562efa81492",
   "metadata": {
    "jp-MarkdownHeadingCollapsed": true,
    "tags": []
   },
   "source": [
    "## quantum SVM model"
   ]
  },
  {
   "cell_type": "markdown",
   "id": "b5d30f49-bcdf-485a-b1ed-d3171e874b10",
   "metadata": {},
   "source": [
    "hyper-parameter"
   ]
  },
  {
   "cell_type": "code",
   "execution_count": 24,
   "id": "1c77ef11-5fa5-4ddf-af03-db129325e792",
   "metadata": {},
   "outputs": [],
   "source": [
    "feature_dim = 4\n",
    "resize_image_size = 2,2\n",
    "anti_aliasing = True\n",
    "anti_aliasing_sigma = None #default to (s-1)/2 where s=44/2 is the downsamplign factor\n",
    "# normalize the data into range [normalize_min,normalize_max]\n",
    "normalize_min = 0\n",
    "normalize_max = 1\n",
    "feature_type = 'ZZ' #Pauli or ZZ\n",
    "# TODO amplitude encoding\n",
    "feature_repeat = 2 #see ZZFeatureMap argument\n",
    "qasm_shots = 1024\n",
    "seed = None #random seed\n",
    "\n",
    "# feature_dim should be the same as #pixel\n",
    "assert resize_image_size[0]*resize_image_size[1]==feature_dim"
   ]
  },
  {
   "cell_type": "markdown",
   "id": "77a649a5-2eef-4f2e-a632-77a7c7ecb162",
   "metadata": {},
   "source": [
    "resize and normalize"
   ]
  },
  {
   "cell_type": "code",
   "execution_count": 11,
   "id": "9b76e428-f4c4-450a-a30f-0fd13f6bdd64",
   "metadata": {},
   "outputs": [
    {
     "name": "stdout",
     "output_type": "stream",
     "text": [
      "x_train_normed include 38 images, each of shape (4), range from 0.000 to 1.000\n",
      "x_test_normed include 10 images, each of shape (4), range from 0.224 to 0.962\n"
     ]
    }
   ],
   "source": [
    "# resize x_train to resize_image_size, and scale it to range [normalize_min,normalize_max]\n",
    "tmp0 = np.stack([skimage.transform.resize(x, resize_image_size,\n",
    "                       anti_aliasing=anti_aliasing, anti_aliasing_sigma=anti_aliasing_sigma).reshape(-1) for x in x_train])\n",
    "scale_a = (normalize_max-normalize_min)/(tmp0.max()-tmp0.min())\n",
    "scale_b = normalize_min - tmp0.min()*scale_a\n",
    "x_train_normed = tmp0*scale_a + scale_b\n",
    "\n",
    "# resize x_test, and apply the same scale as x_train\n",
    "tmp0 = np.stack([skimage.transform.resize(x, resize_image_size,\n",
    "                       anti_aliasing=anti_aliasing, anti_aliasing_sigma=anti_aliasing_sigma).reshape(-1) for x in x_test])\n",
    "x_test_normed = tmp0*scale_a + scale_b\n",
    "\n",
    "# print the shape, range information\n",
    "print('x_train_normed include {} images, each of shape ({}), range from {:.3f} to {:.3f}'.format(*x_train_normed.shape, x_train_normed.min(), x_train_normed.max()))\n",
    "print('x_test_normed include {} images, each of shape ({}), range from {:.3f} to {:.3f}'.format(*x_test_normed.shape, x_test_normed.min(), x_test_normed.max()))"
   ]
  },
  {
   "cell_type": "markdown",
   "id": "0bcf23c7-9253-426b-b9c1-a57ee0bcfeee",
   "metadata": {},
   "source": [
    "create a new quantum simulator, or we can replace it with a real quantum computer instance in the future."
   ]
  },
  {
   "cell_type": "code",
   "execution_count": 12,
   "id": "b62b7ded-1e88-4906-87ca-fb08188773f6",
   "metadata": {},
   "outputs": [],
   "source": [
    "aer_qasm_sim = qiskit.providers.aer.QasmSimulator()\n",
    "qi_aer_qasm = qiskit.utils.QuantumInstance(aer_qasm_sim, shots=qasm_shots, seed_simulator=seed)"
   ]
  },
  {
   "cell_type": "markdown",
   "id": "acff8bce-5c95-4910-8ae3-8807975427d5",
   "metadata": {},
   "source": [
    "create `feature_map`, `feature_kernel`, and draw the circuit"
   ]
  },
  {
   "cell_type": "code",
   "execution_count": 13,
   "id": "576e66d8-1d14-4f18-8a0a-29b2251b7b35",
   "metadata": {},
   "outputs": [
    {
     "data": {
      "image/png": "[encoded data removed]",
      "text/plain": [
       "<Figure size 1471.2x325.08 with 1 Axes>"
      ]
     },
     "execution_count": 13,
     "metadata": {},
     "output_type": "execute_result"
    }
   ],
   "source": [
    "if feature_type=='ZZ':\n",
    "    feature_map = ZZFeatureMap(feature_dimension=feature_dim, reps=feature_repeat, entanglement='linear')\n",
    "else:\n",
    "    feature_map = PauliFeatureMap(feature_dimension=feature_dim, reps=feature_repeat, entanglement='linear')\n",
    "feature_kernel = QuantumKernel(feature_map=feature_map, quantum_instance=qi_aer_qasm)\n",
    "\n",
    "#Constructing the inner product circuit for given datapoints and feature map\n",
    "feature_circuit = feature_kernel.construct_circuit(x_train_normed[0], x_train_normed[1])\n",
    "feature_circuit.decompose().draw('mpl')"
   ]
  },
  {
   "cell_type": "markdown",
   "id": "4613547d-322f-4afe-8227-1037d6a25d88",
   "metadata": {},
   "source": [
    "train and evaluate the model"
   ]
  },
  {
   "cell_type": "code",
   "execution_count": 14,
   "id": "30b0e776-8f13-4134-bde7-4b9a716a113a",
   "metadata": {},
   "outputs": [
    {
     "name": "stdout",
     "output_type": "stream",
     "text": [
      "classification accuracy on train set (size=38): 1.0\n",
      "classification accuracy on test set (size=10): 0.9\n"
     ]
    }
   ],
   "source": [
    "# train quantum SVM model with train set\n",
    "model = sklearn.svm.SVC(kernel= feature_kernel.evaluate)\n",
    "model.fit(x_train_normed, y_train)\n",
    "\n",
    "# evaluate QSVM using train set\n",
    "accuracy = model.score(x_train_normed, y_train)\n",
    "print(f'classification accuracy on train set (size={len(y_train)}): {accuracy}')\n",
    "\n",
    "# evaluate QSVM using set set\n",
    "accuracy = model.score(x_test_normed, y_test)\n",
    "print(f'classification accuracy on test set (size={len(y_test)}): {accuracy}')"
   ]
  },
  {
   "cell_type": "markdown",
   "id": "41a1fb85-00fc-4b85-bddb-f5a164ca9fbd",
   "metadata": {
    "tags": []
   },
   "source": [
    "## QSVM all in one\n",
    "\n",
    "Bundle all above in one code block, and run it with different hyper-parameter. Please go through the section above to get the meaning of the below code."
   ]
  },
  {
   "cell_type": "code",
   "execution_count": 12,
   "id": "becea8c8-68a7-47cb-b5da-0d3d8cbc7ea3",
   "metadata": {},
   "outputs": [],
   "source": [
    "def QSVM_all_in_one(param:dict):\n",
    "    param = dict(param) #make a copy\n",
    "    # set default value\n",
    "    param.setdefault('feature_dim', 4)\n",
    "    param.setdefault('resize_image_size', (2,2))\n",
    "    param.setdefault('anti_aliasing', True)\n",
    "    #anti_aliasing_sigma default to (s-1)/2 where s=44/2 is the downsamplign factor\n",
    "    param.setdefault('anti_aliasing_sigma', None)\n",
    "    # normalize the data into range [normalize_min,normalize_max]\n",
    "    param.setdefault('normalize_min', 0)\n",
    "    param.setdefault('normalize_max', 1)\n",
    "    param.setdefault('feature_type', 'ZZ') #ZZ or Pauli\n",
    "    # TODO amplitude encoding\n",
    "    param.setdefault('feature_repeat', 2) #see ZZFeatureMap argument\n",
    "    param.setdefault('qasm_shots', 1024)\n",
    "    param.setdefault('use_ibmq', False)\n",
    "    param.setdefault('seed', None)\n",
    "    \n",
    "    feature_dim = param['feature_dim']\n",
    "    resize_image_size = param['resize_image_size']\n",
    "    anti_aliasing = param['anti_aliasing']\n",
    "    anti_aliasing_sigma = param['anti_aliasing_sigma']\n",
    "    normalize_min = param['normalize_min']\n",
    "    normalize_max = param['normalize_max']\n",
    "    feature_type = param['feature_type']\n",
    "    feature_repeat = param['feature_repeat']\n",
    "    qasm_shots = param['qasm_shots']\n",
    "    seed = param['seed']\n",
    "    use_ibmq = param['use_ibmq']\n",
    "\n",
    "    # resize x_train to resize_image_size, and scale it to range [normalize_min,normalize_max]\n",
    "    tmp0 = np.stack([skimage.transform.resize(x, resize_image_size,\n",
    "                           anti_aliasing=anti_aliasing, anti_aliasing_sigma=anti_aliasing_sigma).reshape(-1) for x in x_train])\n",
    "    scale_a = (normalize_max-normalize_min)/(tmp0.max()-tmp0.min())\n",
    "    scale_b = normalize_min - tmp0.min()*scale_a\n",
    "    x_train_normed = tmp0*scale_a + scale_b\n",
    "\n",
    "    # resize x_test, and apply the same scale as x_train\n",
    "    tmp0 = np.stack([skimage.transform.resize(x, resize_image_size,\n",
    "                           anti_aliasing=anti_aliasing, anti_aliasing_sigma=anti_aliasing_sigma).reshape(-1) for x in x_test])\n",
    "    x_test_normed = tmp0*scale_a + scale_b\n",
    "\n",
    "    # print the shape, range information\n",
    "    print('x_train_normed include {} images, each of shape ({}), range from {:.3f} to {:.3f}'.format(*x_train_normed.shape, x_train_normed.min(), x_train_normed.max()))\n",
    "    print('x_test_normed include {} images, each of shape ({}), range from {:.3f} to {:.3f}'.format(*x_test_normed.shape, x_test_normed.min(), x_test_normed.max()))\n",
    "\n",
    "    if use_ibmq:\n",
    "        qinstance = qi_ibmq\n",
    "    else:\n",
    "        aer_qasm_sim = qiskit.providers.aer.QasmSimulator()\n",
    "        qinstance = qiskit.utils.QuantumInstance(aer_qasm_sim, shots=qasm_shots, seed_simulator=seed)\n",
    "\n",
    "    if feature_type=='ZZ':\n",
    "        feature_map = ZZFeatureMap(feature_dimension=feature_dim, reps=feature_repeat, entanglement='linear')\n",
    "    elif feature_type=='Pauli':\n",
    "        feature_map = PauliFeatureMap(feature_dimension=feature_dim, reps=feature_repeat, entanglement='linear')\n",
    "    elif feature_type=='FRQI':\n",
    "        feature_map = frqi_state(feature_dim)\n",
    "    else:\n",
    "        assert False, 'unknown feature_type'\n",
    "    feature_kernel = QuantumKernel(feature_map=feature_map, quantum_instance=qinstance)\n",
    "\n",
    "    # train quantum SVM model with train set\n",
    "    model = sklearn.svm.SVC(kernel= feature_kernel.evaluate)\n",
    "    model.fit(x_train_normed, y_train)\n",
    "\n",
    "    train_accuracy = model.score(x_train_normed, y_train)\n",
    "    print(f'classification accuracy on train set (size={len(y_train)}): {train_accuracy}')\n",
    "\n",
    "    test_accuracy = model.score(x_test_normed, y_test)\n",
    "    print(f'classification accuracy on test set (size={len(y_test)}): {test_accuracy}')\n",
    "    return param,train_accuracy,test_accuracy\n"
   ]
  },
  {
   "cell_type": "markdown",
   "id": "a3439c54-adec-4f17-b7fa-18458a7de4ab",
   "metadata": {},
   "source": [
    "### run on real device"
   ]
  },
  {
   "cell_type": "code",
   "execution_count": null,
   "id": "3e413fa1-12cb-4ef6-b2be-a593975847a1",
   "metadata": {},
   "outputs": [],
   "source": [
    "param = {'anti_aliasing':True, 'feature_dim':2, 'resize_image_size':(1,2), 'use_ibmq':True}\n",
    "param, train_accuracy, test_accuracy = QSVM_all_in_one(param)"
   ]
  },
  {
   "cell_type": "markdown",
   "id": "b06db1a6-9fed-4ea4-a2c0-a0e153aaee36",
   "metadata": {},
   "source": [
    "### compare `anti_aliasing=True` and `anti_aliasing=False`\n",
    "\n",
    "`class_size=100` (total `200` samples)\n",
    "\n",
    "| `anti_aliasing` | train-accuracy | test-accuracy |\n",
    "| :-: | :-: | :-: |\n",
    "| `True` | `0.962` | `0.775` |\n",
    "| `False` | `0.706` | `0.55` |\n",
    "\n",
    "conclusion: `anti_aliasing=True` is much better than `anti_aliasing=False`"
   ]
  },
  {
   "cell_type": "code",
   "execution_count": 17,
   "id": "946fe1bb-ba15-4eb6-af0c-38fa67ac841f",
   "metadata": {},
   "outputs": [
    {
     "name": "stdout",
     "output_type": "stream",
     "text": [
      "x_train_normed include 160 images, each of shape (4), range from 0.000 to 1.000\n",
      "x_test_normed include 40 images, each of shape (4), range from 0.236 to 1.024\n",
      "classification accuracy on train set (size=160): 0.9625\n",
      "classification accuracy on test set (size=40): 0.775\n",
      "result saved to \"result/40863742.json\"\n",
      "x_train_normed include 160 images, each of shape (4), range from 0.000 to 1.000\n",
      "x_test_normed include 40 images, each of shape (4), range from -0.232 to 1.000\n",
      "classification accuracy on train set (size=160): 0.70625\n",
      "classification accuracy on test set (size=40): 0.55\n",
      "result saved to \"result/5696228.json\"\n"
     ]
    },
    {
     "data": {
      "text/plain": [
       "'result/5696228.json'"
      ]
     },
     "execution_count": 17,
     "metadata": {},
     "output_type": "execute_result"
    }
   ],
   "source": [
    "param = {'anti_aliasing':True, 'seed':None}\n",
    "param,train_accuracy,test_accuracy = QSVM_all_in_one(param)\n",
    "save_result(param=param, train_accuracy=train_accuracy, test_accuracy=test_accuracy)\n",
    "\n",
    "param = {'anti_aliasing':False, 'seed':None}\n",
    "param,train_accuracy,test_accuracy = QSVM_all_in_one(param)\n",
    "save_result(param=param, train_accuracy=train_accuracy, test_accuracy=test_accuracy)"
   ]
  },
  {
   "cell_type": "markdown",
   "id": "2dce270b-6e61-4602-8181-4c2bc1575a67",
   "metadata": {},
   "source": [
    "### compare `resize_image_size`\n",
    "\n",
    "number of qubit is equal to `#qubits=height*width`. **more qubits help**\n",
    "\n",
    "`class_size=100` (total `200` samples)\n",
    "\n",
    "| `resize_image_size` | train-accuracy | test-accuracy |\n",
    "| :-: | :-: | :-: |\n",
    "| `(1,2)` | `0.669` | `0.6` |\n",
    "| `(2,1)` | `0.825` | `0.75` |\n",
    "| `(2,2)` | `0.956` | `0.8` |\n",
    "| `(3,3)` | `1.0` | `0.925` |"
   ]
  },
  {
   "cell_type": "code",
   "execution_count": 18,
   "id": "61e202ce-1a2e-4914-a521-56b59832705b",
   "metadata": {},
   "outputs": [
    {
     "name": "stdout",
     "output_type": "stream",
     "text": [
      "x_train_normed include 160 images, each of shape (2), range from 0.000 to 1.000\n",
      "x_test_normed include 40 images, each of shape (2), range from 0.181 to 0.985\n",
      "classification accuracy on train set (size=160): 0.66875\n",
      "classification accuracy on test set (size=40): 0.6\n",
      "result saved to \"result/9616005.json\"\n",
      "x_train_normed include 160 images, each of shape (2), range from 0.000 to 1.000\n",
      "x_test_normed include 40 images, each of shape (2), range from 0.307 to 0.992\n",
      "classification accuracy on train set (size=160): 0.825\n",
      "classification accuracy on test set (size=40): 0.75\n",
      "result saved to \"result/46677867.json\"\n",
      "x_train_normed include 160 images, each of shape (4), range from 0.000 to 1.000\n",
      "x_test_normed include 40 images, each of shape (4), range from 0.236 to 1.024\n",
      "classification accuracy on train set (size=160): 0.95625\n",
      "classification accuracy on test set (size=40): 0.8\n",
      "result saved to \"result/9344539.json\"\n",
      "x_train_normed include 160 images, each of shape (9), range from 0.000 to 1.000\n",
      "x_test_normed include 40 images, each of shape (9), range from 0.247 to 1.001\n",
      "classification accuracy on train set (size=160): 1.0\n",
      "classification accuracy on test set (size=40): 0.925\n",
      "result saved to \"result/37066671.json\"\n"
     ]
    },
    {
     "data": {
      "text/plain": [
       "'result/37066671.json'"
      ]
     },
     "execution_count": 18,
     "metadata": {},
     "output_type": "execute_result"
    }
   ],
   "source": [
    "param = {'anti_aliasing':True, 'feature_dim':2, 'resize_image_size':(1,2)}\n",
    "param, train_accuracy, test_accuracy = QSVM_all_in_one(param)\n",
    "save_result(param=param, train_accuracy=train_accuracy, test_accuracy=test_accuracy)\n",
    "\n",
    "param = {'anti_aliasing':True, 'feature_dim':2, 'resize_image_size':(2,1)}\n",
    "param, train_accuracy, test_accuracy = QSVM_all_in_one(param)\n",
    "save_result(param=param, train_accuracy=train_accuracy, test_accuracy=test_accuracy)\n",
    "\n",
    "param = {'anti_aliasing':True, 'feature_dim':4, 'resize_image_size':(2,2)}\n",
    "param, train_accuracy, test_accuracy = QSVM_all_in_one(param)\n",
    "save_result(param=param, train_accuracy=train_accuracy, test_accuracy=test_accuracy)\n",
    "\n",
    "param = {'anti_aliasing':True, 'feature_dim':9, 'resize_image_size':(3,3)}\n",
    "param, train_accuracy, test_accuracy = QSVM_all_in_one(param)\n",
    "save_result(param=param, train_accuracy=train_accuracy, test_accuracy=test_accuracy)"
   ]
  },
  {
   "cell_type": "markdown",
   "id": "fe444ca7-49d9-45b7-92aa-ec0c2ea2d290",
   "metadata": {},
   "source": [
    "### compare `ZZFeatureMap`, `Pauli`, `FRQI`"
   ]
  },
  {
   "cell_type": "code",
   "execution_count": 20,
   "id": "8a7b1a2b-2a8f-4b38-9983-ef3db0e765cd",
   "metadata": {},
   "outputs": [
    {
     "name": "stdout",
     "output_type": "stream",
     "text": [
      "x_train_normed include 160 images, each of shape (4), range from 0.000 to 1.000\n",
      "x_test_normed include 40 images, each of shape (4), range from 0.236 to 1.024\n",
      "classification accuracy on train set (size=160): 0.95625\n",
      "classification accuracy on test set (size=40): 0.8\n",
      "result saved to \"result/51992678.json\"\n",
      "x_train_normed include 160 images, each of shape (4), range from 0.000 to 1.000\n",
      "x_test_normed include 40 images, each of shape (4), range from 0.236 to 1.024\n",
      "classification accuracy on train set (size=160): 0.9125\n",
      "classification accuracy on test set (size=40): 0.8\n",
      "result saved to \"result/41374090.json\"\n",
      "x_train_normed include 160 images, each of shape (4), range from 0.000 to 1.000\n",
      "x_test_normed include 40 images, each of shape (4), range from 0.236 to 1.024\n",
      "classification accuracy on train set (size=160): 0.96875\n",
      "classification accuracy on test set (size=40): 0.8\n",
      "result saved to \"result/38276342.json\"\n"
     ]
    },
    {
     "data": {
      "text/plain": [
       "'result/38276342.json'"
      ]
     },
     "execution_count": 20,
     "metadata": {},
     "output_type": "execute_result"
    }
   ],
   "source": [
    "param = {'anti_aliasing':True, 'feature_type':'ZZ'}\n",
    "param, train_accuracy, test_accuracy = QSVM_all_in_one(param)\n",
    "save_result(param=param, train_accuracy=train_accuracy, test_accuracy=test_accuracy)\n",
    "\n",
    "param = {'anti_aliasing':True, 'feature_type':'FRQI'}\n",
    "param, train_accuracy, test_accuracy = QSVM_all_in_one(param)\n",
    "save_result(param=param, train_accuracy=train_accuracy, test_accuracy=test_accuracy)\n",
    "\n",
    "param = {'anti_aliasing':True, 'feature_type':'Pauli'}\n",
    "param, train_accuracy, test_accuracy = QSVM_all_in_one(param)\n",
    "save_result(param=param, train_accuracy=train_accuracy, test_accuracy=test_accuracy)"
   ]
  },
  {
   "cell_type": "markdown",
   "id": "ae083b11-63a8-439f-9969-81226e981b56",
   "metadata": {
    "jp-MarkdownHeadingCollapsed": true,
    "tags": []
   },
   "source": [
    "## quantum neural network (QNN) model"
   ]
  },
  {
   "cell_type": "markdown",
   "id": "b1875e1a-bcb0-45db-8693-030608ee9e35",
   "metadata": {},
   "source": [
    "auxiliary functions"
   ]
  },
  {
   "cell_type": "code",
   "execution_count": 23,
   "id": "19d7fa6c-3e46-460f-a927-2db34bbf8b70",
   "metadata": {},
   "outputs": [],
   "source": [
    "def parity(x, num_classes):\n",
    "    return f\"{x:b}\".count(\"1\") % num_classes\n",
    "\n",
    "def one_qubit_binary(x):\n",
    "    return x % 2\n",
    "\n",
    "def callback_wrapper(loss_recorder:list):\n",
    "    def callback(nfev, params, fval, stepsize, accepted=None):\n",
    "        \"\"\"\n",
    "        Can be used for SPSA and GradientDescent optimizers\n",
    "        nfev: the number of function evals\n",
    "        params: the current parameters\n",
    "        fval: the current function value\n",
    "        stepsize: size of the update step\n",
    "        accepted: whether the step was accepted (not used for )\n",
    "        \"\"\"\n",
    "        loss_recorder.append(fval)\n",
    "        if nfev%21==0: #print less\n",
    "            print(f'{nfev} - {fval}')\n",
    "    return callback\n",
    "\n",
    "def get_one_hot_encoding(y):\n",
    "    N0 = len(y)\n",
    "    ret = np.zeros((N0,2), dtype=np.int64)\n",
    "    ret[np.arange(N0), y] = 1\n",
    "    return ret"
   ]
  },
  {
   "cell_type": "markdown",
   "id": "a1978604-ba5e-40f0-9780-ee44337cf143",
   "metadata": {},
   "source": [
    "hyper-parameter. modify this code block, and run the following code blocks"
   ]
  },
  {
   "cell_type": "code",
   "execution_count": 28,
   "id": "acf7409a-6d3b-4de1-aa38-5c691882ce69",
   "metadata": {},
   "outputs": [],
   "source": [
    "feature_dim = 4\n",
    "resize_image_size = 2,2\n",
    "anti_aliasing = True\n",
    "anti_aliasing_sigma = None #default to (s-1)/2 where s=44/2 is the downsamplign factor\n",
    "# normalize the data into range [normalize_min,normalize_max]\n",
    "normalize_min = 0\n",
    "normalize_max = 1\n",
    "feature_type = 'ZZ' #Pauli or ZZ\n",
    "# TODO amplitude encoding\n",
    "feature_repeat = 2 #see ZZFeatureMap argument\n",
    "ansatz_repeat = 2 #see TwoLocal argument\n",
    "qasm_shots = 1024\n",
    "seed = None #random seed\n",
    "maxiter = 100\n",
    "\n",
    "# feature_dim should be the same as #pixel\n",
    "assert resize_image_size[0]*resize_image_size[1]==feature_dim\n",
    "\n",
    "np_rng = np.random.default_rng(seed)"
   ]
  },
  {
   "cell_type": "markdown",
   "id": "eef564f4-0d3c-4a21-a42f-f13ac9cf952a",
   "metadata": {},
   "source": [
    "resize, normalize, one-hot coding"
   ]
  },
  {
   "cell_type": "code",
   "execution_count": 30,
   "id": "88bb3664-6ef6-4486-857e-6c0a03b6ee9e",
   "metadata": {},
   "outputs": [
    {
     "name": "stdout",
     "output_type": "stream",
     "text": [
      "x_train_normed include 38 images, each of shape (4), range from 0.000 to 1.000\n",
      "x_test_normed include 10 images, each of shape (4), range from 0.354 to 1.009\n"
     ]
    }
   ],
   "source": [
    "# resize x_train to resize_image_size, and scale it to range [normalize_min,normalize_max]\n",
    "tmp0 = np.stack([skimage.transform.resize(x, resize_image_size,\n",
    "                       anti_aliasing=anti_aliasing, anti_aliasing_sigma=anti_aliasing_sigma).reshape(-1) for x in x_train])\n",
    "scale_a = (normalize_max-normalize_min)/(tmp0.max()-tmp0.min())\n",
    "scale_b = normalize_min - tmp0.min()*scale_a\n",
    "x_train_normed = tmp0*scale_a + scale_b\n",
    "\n",
    "y_train_1h = get_one_hot_encoding(y_train)\n",
    "\n",
    "# resize x_test, and apply the same scale as x_train\n",
    "tmp0 = np.stack([skimage.transform.resize(x, resize_image_size,\n",
    "                       anti_aliasing=anti_aliasing, anti_aliasing_sigma=anti_aliasing_sigma).reshape(-1) for x in x_test])\n",
    "x_test_normed = tmp0*scale_a + scale_b\n",
    "\n",
    "y_test_1h = get_one_hot_encoding(y_test)\n",
    "\n",
    "# print the shape, range information\n",
    "print('x_train_normed include {} images, each of shape ({}), range from {:.3f} to {:.3f}'.format(*x_train_normed.shape, x_train_normed.min(), x_train_normed.max()))\n",
    "print('x_test_normed include {} images, each of shape ({}), range from {:.3f} to {:.3f}'.format(*x_test_normed.shape, x_test_normed.min(), x_test_normed.max()))"
   ]
  },
  {
   "cell_type": "markdown",
   "id": "9d01ebab-e76f-48dd-b205-5e8d0d88f2d1",
   "metadata": {},
   "source": [
    "create a new quantum simulator, or we can replace it with a real quantum computer instance in the future."
   ]
  },
  {
   "cell_type": "code",
   "execution_count": null,
   "id": "400ac703-f379-4ade-8882-225bf5e6f307",
   "metadata": {},
   "outputs": [],
   "source": [
    "aer_qasm_sim = qiskit.providers.aer.QasmSimulator()\n",
    "qi_aer_qasm = qiskit.utils.QuantumInstance(aer_qasm_sim, shots=qasm_shots, seed_simulator=seed)"
   ]
  },
  {
   "cell_type": "markdown",
   "id": "86e9f536-0ac0-41b2-92f9-196e60a6b03b",
   "metadata": {},
   "source": [
    "feature encoding circuit (without trainable parameters)"
   ]
  },
  {
   "cell_type": "code",
   "execution_count": null,
   "id": "3678cf8c-f79e-45af-a8b4-eb5b8531abb3",
   "metadata": {},
   "outputs": [],
   "source": [
    "if feature_type=='ZZ':\n",
    "    feature_map = ZZFeatureMap(feature_dimension=feature_dim, reps=feature_repeat, entanglement='linear')\n",
    "else:\n",
    "    feature_map = PauliFeatureMap(feature_dimension=feature_dim, reps=feature_repeat, entanglement='linear')\n",
    "feature_map.decompose().draw('mpl', scale=0.7)"
   ]
  },
  {
   "cell_type": "markdown",
   "id": "b2b68768-3ffd-4365-a167-7e047be1d2f8",
   "metadata": {},
   "source": [
    "ansatz circuit (with trainable parameters)"
   ]
  },
  {
   "cell_type": "code",
   "execution_count": null,
   "id": "1e81c5c3-d44a-43b6-aa17-c23715f54477",
   "metadata": {},
   "outputs": [],
   "source": [
    "ansatz = TwoLocal(num_qubits=feature_dim, rotation_blocks=['ry', 'rz'],\n",
    "                         entanglement_blocks='cx', entanglement='linear', reps=ansatz_repeat)\n",
    "ansatz.bind_parameters(np.zeros(len(ansatz.parameters)))\n",
    "ansatz.decompose().draw('mpl', scale=0.7)"
   ]
  },
  {
   "cell_type": "markdown",
   "id": "b4a4b58e-4b6c-479b-80c9-2337f681c1c6",
   "metadata": {},
   "source": [
    "combine feature map circuit and ansatz circuit to make a quantum neural network"
   ]
  },
  {
   "cell_type": "code",
   "execution_count": null,
   "id": "c1cf399d-d7eb-44fb-86eb-bd79edcdecba",
   "metadata": {},
   "outputs": [],
   "source": [
    "qnn_circuit = feature_map.compose(ansatz)\n",
    "num_classes = 2\n",
    "\n",
    "qnn = CircuitQNN(circuit=qnn_circuit,\n",
    "                 input_params=feature_map.parameters,  # if your embedding strategy is not a parametrized circuit \n",
    "                                                   # (e.g. amplitude encoding) you will have to do some extra work!\n",
    "                 weight_params=ansatz.parameters,  # if you train your embedding as well, the trainable\n",
    "                                                      # parameters of the embedding must be added\n",
    "                 interpret=one_qubit_binary,\n",
    "                 output_shape=num_classes,\n",
    "                 gradient=None,\n",
    "                 quantum_instance=qi_aer_qasm)\n",
    "\n",
    "loss_recorder = []\n",
    "spsa_opt = SPSA(maxiter=maxiter, callback=callback_wrapper(loss_recorder))\n",
    "initial_point = np_rng.uniform(0,2*np.pi,size=len(ansatz.parameters))\n",
    "vqc = NeuralNetworkClassifier(neural_network=qnn,\n",
    "                              loss=CrossEntropyLoss(),\n",
    "                              one_hot=True,\n",
    "                              optimizer=spsa_opt,\n",
    "                              initial_point=initial_point)"
   ]
  },
  {
   "cell_type": "markdown",
   "id": "d49e3f34-621c-476a-9e46-91de5a4086ff",
   "metadata": {},
   "source": [
    "train and evalute the QNN model"
   ]
  },
  {
   "cell_type": "code",
   "execution_count": null,
   "id": "0104d669-49e2-4a70-9407-ce2a35ca246a",
   "metadata": {},
   "outputs": [],
   "source": [
    "# train using train set\n",
    "vqc.fit(x_train_normed, y_train_1h)\n",
    "\n",
    "# evaluate on the train set and test set\n",
    "train_accuracy = vqc.score(x_train_normed, y_train_1h)\n",
    "test_accuracy = vqc.score(x_test_normed, y_test_1h)\n",
    "print(f'accuracy on the train set (size={len(x_train)}): {train_accuracy}')\n",
    "print(f'accuracy on the test set (size={len(x_test)}) {test_accuracy}')\n",
    "\n",
    "# plot the loss curve\n",
    "plt.plot(loss_recorder)"
   ]
  },
  {
   "cell_type": "markdown",
   "id": "57876dc0-55d4-4112-a2f9-9ddb4876acc8",
   "metadata": {
    "tags": []
   },
   "source": [
    "## QNN all in one\n",
    "\n",
    "Bundle all above in one code block, and run it with different hyper-parameter. Please go through the section above to get the meaning of the below code."
   ]
  },
  {
   "cell_type": "code",
   "execution_count": 21,
   "id": "f6fb640b-d66b-4d93-b0ad-78a182b01a62",
   "metadata": {},
   "outputs": [],
   "source": [
    "def QNN_all_in_one(param):\n",
    "    param = dict(param) #make a copy\n",
    "    # set default value\n",
    "    param.setdefault('feature_dim', 4)\n",
    "    param.setdefault('resize_image_size', (2,2))\n",
    "    param.setdefault('anti_aliasing', True)\n",
    "    #anti_aliasing_sigma default to (s-1)/2 where s=44/2 is the downsamplign factor\n",
    "    param.setdefault('anti_aliasing_sigma', None)\n",
    "    # normalize the data into range [normalize_min,normalize_max]\n",
    "    param.setdefault('normalize_min', 0)\n",
    "    param.setdefault('normalize_max', 1)\n",
    "    param.setdefault('feature_type', 'ZZ') #ZZ or Pauli\n",
    "    # TODO amplitude encoding\n",
    "    param.setdefault('feature_repeat', 2) #see ZZFeatureMap argument\n",
    "    param.setdefault('ansatz_repeat', 2) #see TwoLocal argument\n",
    "    param.setdefault('qasm_shots', 1024)\n",
    "    param.setdefault('use_ibmq', False)\n",
    "    param.setdefault('maxiter', 100)\n",
    "    param.setdefault('seed', None)\n",
    "    \n",
    "    feature_dim = param['feature_dim']\n",
    "    resize_image_size = param['resize_image_size']\n",
    "    anti_aliasing = param['anti_aliasing']\n",
    "    anti_aliasing_sigma = param['anti_aliasing_sigma']\n",
    "    normalize_min = param['normalize_min']\n",
    "    normalize_max = param['normalize_max']\n",
    "    feature_type = param['feature_type']\n",
    "    feature_repeat = param['feature_repeat']\n",
    "    ansatz_repeat = param['ansatz_repeat']\n",
    "    qasm_shots = param['qasm_shots']\n",
    "    use_ibmq = param['use_ibmq']\n",
    "    maxiter = param['maxiter']\n",
    "    seed = param['seed']\n",
    "    np_rng = np.random.default_rng(seed)\n",
    "\n",
    "    # resize x_train to resize_image_size, and scale it to range [normalize_min,normalize_max]\n",
    "    tmp0 = np.stack([skimage.transform.resize(x, resize_image_size,\n",
    "                           anti_aliasing=anti_aliasing, anti_aliasing_sigma=anti_aliasing_sigma).reshape(-1) for x in x_train])\n",
    "    scale_a = (normalize_max-normalize_min)/(tmp0.max()-tmp0.min())\n",
    "    scale_b = normalize_min - tmp0.min()*scale_a\n",
    "    x_train_normed = tmp0*scale_a + scale_b\n",
    "\n",
    "    y_train_1h = get_one_hot_encoding(y_train)\n",
    "\n",
    "    # resize x_test, and apply the same scale as x_train\n",
    "    tmp0 = np.stack([skimage.transform.resize(x, resize_image_size,\n",
    "                           anti_aliasing=anti_aliasing, anti_aliasing_sigma=anti_aliasing_sigma).reshape(-1) for x in x_test])\n",
    "    x_test_normed = tmp0*scale_a + scale_b\n",
    "\n",
    "    y_test_1h = get_one_hot_encoding(y_test)\n",
    "\n",
    "    # print the shape, range information\n",
    "    print('x_train_normed include {} images, each of shape ({}), range from {:.3f} to {:.3f}'.format(*x_train_normed.shape, x_train_normed.min(), x_train_normed.max()))\n",
    "    print('x_test_normed include {} images, each of shape ({}), range from {:.3f} to {:.3f}'.format(*x_test_normed.shape, x_test_normed.min(), x_test_normed.max()))\n",
    "\n",
    "    if use_ibmq:\n",
    "        qinstance = qi_ibmq\n",
    "    else:\n",
    "        aer_qasm_sim = qiskit.providers.aer.QasmSimulator()\n",
    "        qinstance = qiskit.utils.QuantumInstance(aer_qasm_sim, shots=qasm_shots, seed_simulator=seed)\n",
    "\n",
    "    if feature_type=='ZZ':\n",
    "        feature_map = ZZFeatureMap(feature_dimension=feature_dim, reps=feature_repeat, entanglement='linear')\n",
    "    elif feature_type=='Pauli':\n",
    "        feature_map = PauliFeatureMap(feature_dimension=feature_dim, reps=feature_repeat, entanglement='linear')\n",
    "    elif feature_type=='FRQI':\n",
    "        feature_map = frqi_state(feature_dim)\n",
    "    else:\n",
    "        assert False, 'unknown feature_type'\n",
    "    ansatz = TwoLocal(num_qubits=feature_dim, rotation_blocks=['ry', 'rz'],\n",
    "                     entanglement_blocks='cx', entanglement='linear', reps=ansatz_repeat)\n",
    "\n",
    "    qnn_circuit = feature_map.compose(ansatz)\n",
    "    num_classes = 2\n",
    "    qnn = CircuitQNN(circuit=qnn_circuit, input_params=feature_map.parameters, weight_params=ansatz.parameters,\n",
    "                interpret=one_qubit_binary, output_shape=num_classes, gradient=None, quantum_instance=qinstance)\n",
    "\n",
    "    loss_recorder = []\n",
    "    spsa_opt = SPSA(maxiter=maxiter, callback=callback_wrapper(loss_recorder))\n",
    "    initial_point = np_rng.uniform(0,2*np.pi,size=len(ansatz.parameters))\n",
    "    vqc = NeuralNetworkClassifier(neural_network=qnn, loss=CrossEntropyLoss(),\n",
    "                              one_hot=True, optimizer=spsa_opt, initial_point=initial_point)\n",
    "\n",
    "    # train using train set\n",
    "    vqc.fit(x_train_normed, y_train_1h)\n",
    "\n",
    "    # evaluate on the train set and test set\n",
    "    train_accuracy = vqc.score(x_train_normed, y_train_1h)\n",
    "    test_accuracy = vqc.score(x_test_normed, y_test_1h)\n",
    "    print(f'accuracy on the train set (size={len(x_train)}): {train_accuracy}')\n",
    "    print(f'accuracy on the test set (size={len(x_test)}) {test_accuracy}')\n",
    "    return param,train_accuracy, test_accuracy, loss_recorder\n"
   ]
  },
  {
   "cell_type": "markdown",
   "id": "45c65b6b-b704-4031-ab60-c95d398bd537",
   "metadata": {},
   "source": [
    "### run on real device\n",
    "\n",
    "Even for QNN with 2 qubits, it takes more than `36` hours (not finished yet and I have no idea when it will finish)"
   ]
  },
  {
   "cell_type": "code",
   "execution_count": null,
   "id": "17db3d90-9ce5-42b1-8425-973d2a97d382",
   "metadata": {},
   "outputs": [
    {
     "name": "stdout",
     "output_type": "stream",
     "text": [
      "x_train_normed include 38 images, each of shape (2), range from 0.000 to 1.000\n",
      "x_test_normed include 10 images, each of shape (2), range from -0.018 to 0.935\n"
     ]
    },
    {
     "name": "stderr",
     "output_type": "stream",
     "text": [
      "/home/zhangc/miniconda3/envs/cuda113/lib/python3.9/site-packages/qiskit/utils/run_circuits.py:727: UserWarning: max_credits is not a recognized runtime option and may be ignored by the backend.\n",
      "  return backend.run(circuits, **run_kwargs)\n"
     ]
    }
   ],
   "source": [
    "param = {'anti_aliasing':True, 'feature_dim':2, 'resize_image_size':(1,2), 'use_ibmq':True}\n",
    "param, train_accuracy, test_accuracy, loss_1_2 = QNN_all_in_one(param)"
   ]
  },
  {
   "cell_type": "markdown",
   "id": "db053f02-0874-4ad5-8f55-5365066de2e3",
   "metadata": {},
   "source": [
    "### compare `anti_aliasing=True` and `anti_aliasing=False`"
   ]
  },
  {
   "cell_type": "code",
   "execution_count": 45,
   "id": "7bfc0149-a4fd-4838-abe0-3b19e7a8b0a9",
   "metadata": {},
   "outputs": [
    {
     "name": "stdout",
     "output_type": "stream",
     "text": [
      "x_train_normed include 160 images, each of shape (4), range from 0.000 to 1.571\n",
      "x_test_normed include 40 images, each of shape (4), range from 0.371 to 1.609\n",
      "21 - 174.07930108360864\n",
      "42 - 154.55668989926255\n",
      "63 - 138.8201447009161\n",
      "84 - 131.8388470092425\n",
      "105 - 131.0667517103769\n",
      "126 - 126.66169965095847\n",
      "147 - 126.07282186584652\n",
      "168 - 125.99196500588991\n",
      "189 - 124.35096995470127\n",
      "210 - 124.44309880762735\n",
      "231 - 123.9647864337727\n",
      "252 - 124.4480456825226\n",
      "273 - 124.16916466411266\n",
      "294 - 122.95970467122623\n",
      "accuracy on the train set (size=160): 0.775\n",
      "accuracy on the test set (size=40) 0.7\n",
      "result saved to \"result/82580623.json\"\n",
      "x_train_normed include 160 images, each of shape (4), range from 0.000 to 1.571\n",
      "x_test_normed include 40 images, each of shape (4), range from -0.365 to 1.571\n",
      "21 - 162.90691247455106\n",
      "42 - 158.2256647485642\n",
      "63 - 152.8275164618239\n",
      "84 - 146.47617042538104\n",
      "105 - 144.3906183435834\n",
      "126 - 143.20155441018312\n",
      "147 - 142.26754027332856\n",
      "168 - 142.60996901642574\n",
      "189 - 141.79436320272407\n",
      "210 - 141.59789133772915\n",
      "231 - 142.97315199258827\n",
      "252 - 141.8242831999002\n",
      "273 - 141.4956247213891\n",
      "294 - 141.66797726982162\n",
      "accuracy on the train set (size=160): 0.65625\n",
      "accuracy on the test set (size=40) 0.65\n",
      "result saved to \"result/75154024.json\"\n"
     ]
    },
    {
     "data": {
      "text/plain": [
       "'result/75154024.json'"
      ]
     },
     "execution_count": 45,
     "metadata": {},
     "output_type": "execute_result"
    }
   ],
   "source": [
    "param = {'anti_aliasing':True, 'seed':None, 'normalize_max':np.pi/2}\n",
    "param, train_accuracy, test_accuracy, loss_recorder = QNN_all_in_one(param)\n",
    "save_result(param=param, train_accuracy=train_accuracy, test_accuracy=test_accuracy, loss_recorder=loss_recorder)\n",
    "# plt.plot(loss_recorder)\n",
    "\n",
    "param = {'anti_aliasing':False, 'seed':None, 'normalize_max':np.pi/2}\n",
    "param, train_accuracy, test_accuracy, loss_recorder = QNN_all_in_one(param)\n",
    "save_result(param=param, train_accuracy=train_accuracy, test_accuracy=test_accuracy, loss_recorder=loss_recorder)\n",
    "# plt.plot(loss_recorder)"
   ]
  },
  {
   "cell_type": "code",
   "execution_count": 62,
   "id": "ffd19a99-5ec7-4fe4-9111-1714f32c4cff",
   "metadata": {},
   "outputs": [
    {
     "data": {
      "image/png": "[encoded data removed]",
      "text/plain": [
       "<Figure size 432x288 with 1 Axes>"
      ]
     },
     "metadata": {
      "needs_background": "light"
     },
     "output_type": "display_data"
    }
   ],
   "source": [
    "param,ret0 = load_result('82580623') #anti-aliasing=True, 94765250\n",
    "param,ret1 = load_result('75154024') #anti-aliasing=False, 14556711\n",
    "len_train_set = int(param['class_size']*2*0.8)\n",
    "loss0 = np.array(ret0['loss_recorder'])/len_train_set\n",
    "loss1 = np.array(ret1['loss_recorder'])/len_train_set\n",
    "acc0 = ret0['test_accuracy']\n",
    "acc1 = ret1['test_accuracy']\n",
    "\n",
    "fig,ax = plt.subplots()\n",
    "ax.plot(loss0, label=f'anti-alising=True, acc={acc0:.3f}')\n",
    "ax.plot(loss1, label=f'anti-alising=False, acc={acc1:.3f}')\n",
    "ax.tick_params(axis='both', which='major', labelsize=15)\n",
    "ax.legend(fontsize='x-large')\n",
    "ax.grid()\n",
    "ax.set_xlabel('#step', fontsize='xx-large')\n",
    "ax.set_ylabel('loss', fontsize='xx-large')\n",
    "# fig.savefig('fig/draft20220209/QNN-compare-anti-alising.png', dpi=100)"
   ]
  },
  {
   "cell_type": "markdown",
   "id": "18f72cb0-7b1f-4748-af75-4793c7d279d9",
   "metadata": {},
   "source": [
    "`class_size=100` (total `200` samples)\n",
    "\n",
    "| `anti_aliasing` | train-accuracy | test-accuracy |\n",
    "| :-: | :-: | :-: |\n",
    "| `True` | `0.775` | `0.7` |\n",
    "| `False` | `0.656` | `0.65` |\n",
    "\n",
    "conclusion: `anti_aliasing=True` is much better than `anti_aliasing=False`"
   ]
  },
  {
   "cell_type": "markdown",
   "id": "296e2a76-88d3-4835-9db7-d14c5826ebc2",
   "metadata": {},
   "source": [
    "### compare `ZZFeatureMap`, `Pauli`, `FRQI`"
   ]
  },
  {
   "cell_type": "code",
   "execution_count": 49,
   "id": "bba1ed09-322f-463d-8e68-3dafe57ba4f9",
   "metadata": {},
   "outputs": [
    {
     "name": "stdout",
     "output_type": "stream",
     "text": [
      "x_train_normed include 160 images, each of shape (4), range from 0.000 to 1.571\n",
      "x_test_normed include 40 images, each of shape (4), range from 0.371 to 1.609\n",
      "21 - 161.43762534213565\n",
      "42 - 116.00746167406952\n",
      "63 - 110.5637954744583\n",
      "84 - 108.61808928224107\n",
      "105 - 107.25548211558676\n",
      "126 - 106.32599606388288\n",
      "147 - 106.14579439606203\n",
      "168 - 106.45191797018946\n",
      "189 - 105.11484561196626\n",
      "210 - 105.44964632149829\n",
      "231 - 105.49479527979109\n",
      "252 - 106.49009573565289\n",
      "273 - 105.56382397891511\n",
      "294 - 105.65735361546214\n",
      "accuracy on the train set (size=160): 0.8125\n",
      "accuracy on the test set (size=40) 0.775\n",
      "result saved to \"result/66876146.json\"\n",
      "x_train_normed include 160 images, each of shape (4), range from 0.000 to 1.571\n",
      "x_test_normed include 40 images, each of shape (4), range from 0.371 to 1.609\n",
      "21 - 155.02954307112424\n",
      "42 - 153.71325685174008\n",
      "63 - 154.47947805652825\n",
      "84 - 154.01186076463605\n",
      "105 - 153.57669501801308\n",
      "126 - 153.32193949994704\n",
      "147 - 152.07801355074267\n",
      "168 - 152.77364921916856\n",
      "189 - 152.8358917146083\n",
      "210 - 151.45077987416707\n",
      "231 - 149.84791727754987\n",
      "252 - 149.14042109365874\n",
      "273 - 148.2716499775671\n",
      "294 - 145.6979468473176\n",
      "accuracy on the train set (size=160): 0.85625\n",
      "accuracy on the test set (size=40) 0.825\n",
      "result saved to \"result/94425977.json\"\n",
      "x_train_normed include 160 images, each of shape (4), range from 0.000 to 1.571\n",
      "x_test_normed include 40 images, each of shape (4), range from 0.371 to 1.609\n",
      "21 - 127.196724492232\n",
      "42 - 118.12601761029347\n",
      "63 - 107.07333594340636\n",
      "84 - 101.87296909335493\n",
      "105 - 100.72515651990943\n",
      "126 - 100.30711751250479\n",
      "147 - 99.37187635543368\n",
      "168 - 98.38807411939749\n",
      "189 - 98.90937699682362\n",
      "210 - 98.90328339081557\n",
      "231 - 98.39917081995195\n",
      "252 - 98.31235448711593\n",
      "273 - 98.76948929681099\n",
      "294 - 99.01972708628313\n",
      "accuracy on the train set (size=160): 0.85\n",
      "accuracy on the test set (size=40) 0.725\n",
      "result saved to \"result/38594202.json\"\n"
     ]
    },
    {
     "data": {
      "text/plain": [
       "'result/38594202.json'"
      ]
     },
     "execution_count": 49,
     "metadata": {},
     "output_type": "execute_result"
    }
   ],
   "source": [
    "param = {'anti_aliasing':True, 'feature_type':'ZZ', 'normalize_max':np.pi/2}\n",
    "param, train_accuracy, test_accuracy, loss_ZZ = QNN_all_in_one(param)\n",
    "save_result(param=param, train_accuracy=train_accuracy, test_accuracy=test_accuracy, loss_recorder=loss_ZZ)\n",
    "\n",
    "param = {'anti_aliasing':True, 'feature_type':'FRQI', 'normalize_max':np.pi/2}\n",
    "param, train_accuracy, test_accuracy, loss_FRQI = QNN_all_in_one(param)\n",
    "save_result(param=param, train_accuracy=train_accuracy, test_accuracy=test_accuracy, loss_recorder=loss_FRQI)\n",
    "\n",
    "param = {'anti_aliasing':True, 'feature_type':'Pauli', 'normalize_max':np.pi/2}\n",
    "param, train_accuracy, test_accuracy, loss_Pauli = QNN_all_in_one(param)\n",
    "save_result(param=param, train_accuracy=train_accuracy, test_accuracy=test_accuracy, loss_recorder=loss_Pauli)"
   ]
  },
  {
   "cell_type": "code",
   "execution_count": 60,
   "id": "fd016bee-4376-4c9d-b465-c09f20291281",
   "metadata": {},
   "outputs": [
    {
     "data": {
      "image/png": "[encoded data removed]",
      "text/plain": [
       "<Figure size 432x288 with 1 Axes>"
      ]
     },
     "metadata": {
      "needs_background": "light"
     },
     "output_type": "display_data"
    }
   ],
   "source": [
    "param,ret0 = load_result('66876146') #ZZFeatureMap\n",
    "param,ret1 = load_result('94425977') #FRQI feature map\n",
    "param,ret2 = load_result('38594202') #Pauli feature map\n",
    "len_train_set = int(param['class_size']*2*0.8)\n",
    "loss0 = np.array(ret0['loss_recorder'])/len_train_set\n",
    "loss1 = np.array(ret1['loss_recorder'])/len_train_set\n",
    "loss2 = np.array(ret2['loss_recorder'])/len_train_set\n",
    "acc0 = ret0['test_accuracy']\n",
    "acc1 = ret1['test_accuracy']\n",
    "acc2 = ret2['test_accuracy']\n",
    "\n",
    "fig,ax = plt.subplots()\n",
    "ax.plot(loss0, label=f'ZZ-FeatureMap, acc={acc0:.3f}')\n",
    "ax.plot(loss1, label=f'FRQI-FeatureMap, acc={acc1:.3f}')\n",
    "ax.plot(loss2, label=f'Pauli-FeatureMap, acc={acc2:.3f}')\n",
    "ax.tick_params(axis='both', which='major', labelsize=15)\n",
    "ax.legend(fontsize='x-large')\n",
    "ax.grid()\n",
    "ax.set_xlabel('#step', fontsize='xx-large')\n",
    "ax.set_ylabel('loss', fontsize='xx-large')\n",
    "# fig.savefig('fig/draft20220209/QNN-compare-feature-map.png', dpi=100)"
   ]
  },
  {
   "cell_type": "markdown",
   "id": "74601c81-4a40-42b4-841d-284ea4f828a5",
   "metadata": {},
   "source": [
    "conclusion\n",
    "\n",
    "| `FeatureMap` | train-accuracy | test-accuracy |\n",
    "| :-: | :-: | :-: |\n",
    "| `ZZ` | `0.812` | `0.775` |\n",
    "| `FRQI` | `0.856` | `0.825` |\n",
    "| `Pauli` | `0.85` | `0.725` |\n",
    "\n",
    "1. `FRQI` outperforms than `ZZFeatureMap/PauliFeatureMap` on this dataset\n",
    "2. lower loss doesn't always mean higher accuracy"
   ]
  },
  {
   "cell_type": "markdown",
   "id": "4ef46419-611d-475f-8a0d-52e74c0ea72c",
   "metadata": {},
   "source": [
    "### compare `resize_image_size`"
   ]
  },
  {
   "cell_type": "code",
   "execution_count": 48,
   "id": "b5443790-d803-4bf8-88e8-6ae038d021cd",
   "metadata": {},
   "outputs": [
    {
     "name": "stdout",
     "output_type": "stream",
     "text": [
      "x_train_normed include 160 images, each of shape (2), range from 0.000 to 1.571\n",
      "x_test_normed include 40 images, each of shape (2), range from 0.284 to 1.548\n",
      "21 - 154.31108653520806\n",
      "42 - 151.6384726608907\n",
      "63 - 150.16108636562467\n",
      "84 - 150.1419496770768\n",
      "105 - 149.3608251485815\n",
      "126 - 149.44451333670204\n",
      "147 - 147.812002232944\n",
      "168 - 146.7526522516823\n",
      "189 - 146.58014269291596\n",
      "210 - 147.67216553521104\n",
      "231 - 146.74656793998327\n",
      "252 - 146.94133908180703\n",
      "273 - 147.33799696901804\n",
      "294 - 146.92009743633957\n",
      "accuracy on the train set (size=160): 0.66875\n",
      "accuracy on the test set (size=40) 0.7\n",
      "result saved to \"result/82843426.json\"\n",
      "x_train_normed include 160 images, each of shape (2), range from 0.000 to 1.571\n",
      "x_test_normed include 40 images, each of shape (2), range from 0.482 to 1.559\n",
      "21 - 113.30090017897476\n",
      "42 - 99.47859903822781\n",
      "63 - 94.38663018605406\n",
      "84 - 89.53329564509428\n",
      "105 - 88.25183620172527\n",
      "126 - 89.10902155167548\n",
      "147 - 88.97073790950314\n",
      "168 - 88.87897963717609\n",
      "189 - 89.37503529222144\n",
      "210 - 88.82950272800446\n",
      "231 - 89.19924330740253\n",
      "252 - 88.72035503136482\n",
      "273 - 88.84563563837548\n",
      "294 - 88.6825457284674\n",
      "accuracy on the train set (size=160): 0.90625\n",
      "accuracy on the test set (size=40) 0.875\n",
      "result saved to \"result/44096990.json\"\n",
      "x_train_normed include 160 images, each of shape (4), range from 0.000 to 1.571\n",
      "x_test_normed include 40 images, each of shape (4), range from 0.371 to 1.609\n",
      "21 - 133.82090841359525\n",
      "42 - 118.21644491129612\n",
      "63 - 108.41262981579621\n",
      "84 - 105.15526166987806\n",
      "105 - 104.88516016666978\n",
      "126 - 104.80090097838277\n",
      "147 - 104.07142168872392\n",
      "168 - 103.67307808071199\n",
      "189 - 103.07784190792623\n",
      "210 - 102.67054750863343\n",
      "231 - 102.48671363579034\n",
      "252 - 102.37046131509658\n",
      "273 - 102.66927962285587\n",
      "294 - 101.40991196887106\n",
      "accuracy on the train set (size=160): 0.8375\n",
      "accuracy on the test set (size=40) 0.75\n",
      "result saved to \"result/38779382.json\"\n",
      "x_train_normed include 160 images, each of shape (9), range from 0.000 to 1.571\n",
      "x_test_normed include 40 images, each of shape (9), range from 0.387 to 1.572\n",
      "21 - 166.21867447615824\n",
      "42 - 143.93064577753876\n",
      "63 - 141.30819675443405\n",
      "84 - 137.1625681489914\n",
      "105 - 134.57270720989666\n",
      "126 - 131.10534177917094\n",
      "147 - 130.91901130110114\n",
      "168 - 127.45992936441439\n",
      "189 - 120.96056625791016\n",
      "210 - 116.31147142346765\n",
      "231 - 113.82462528451813\n",
      "252 - 106.37143195382083\n",
      "273 - 101.48137004025426\n",
      "294 - 97.75269094250086\n",
      "accuracy on the train set (size=160): 0.83125\n",
      "accuracy on the test set (size=40) 0.825\n",
      "result saved to \"result/18146346.json\"\n"
     ]
    },
    {
     "data": {
      "text/plain": [
       "<matplotlib.legend.Legend at 0x7ff8ea35f310>"
      ]
     },
     "execution_count": 48,
     "metadata": {},
     "output_type": "execute_result"
    },
    {
     "data": {
      "image/png": "[encoded data removed]",
      "text/plain": [
       "<Figure size 432x288 with 1 Axes>"
      ]
     },
     "metadata": {
      "needs_background": "light"
     },
     "output_type": "display_data"
    }
   ],
   "source": [
    "param = {'anti_aliasing':True, 'feature_dim':2, 'resize_image_size':(1,2), 'normalize_max':np.pi/2}\n",
    "param, train_accuracy, test_accuracy, loss_1_2 = QNN_all_in_one(param)\n",
    "save_result(param=param, train_accuracy=train_accuracy, test_accuracy=test_accuracy, loss_recorder=loss_1_2)\n",
    "\n",
    "param = {'anti_aliasing':True, 'feature_dim':2, 'resize_image_size':(2,1), 'normalize_max':np.pi/2}\n",
    "param, train_accuracy, test_accuracy, loss_2_1 = QNN_all_in_one(param)\n",
    "save_result(param=param, train_accuracy=train_accuracy, test_accuracy=test_accuracy, loss_recorder=loss_2_1)\n",
    "# this one diverge\n",
    "\n",
    "param = {'anti_aliasing':True, 'feature_dim':4, 'resize_image_size':(2,2), 'normalize_max':np.pi/2}\n",
    "param, train_accuracy, test_accuracy, loss_2_2 = QNN_all_in_one(param)\n",
    "save_result(param=param, train_accuracy=train_accuracy, test_accuracy=test_accuracy, loss_recorder=loss_2_2)\n",
    "\n",
    "param = {'anti_aliasing':True, 'feature_dim':9, 'resize_image_size':(3,3), 'normalize_max':np.pi/2}\n",
    "param, train_accuracy, test_accuracy, loss_3_3 = QNN_all_in_one(param)\n",
    "save_result(param=param, train_accuracy=train_accuracy, test_accuracy=test_accuracy, loss_recorder=loss_3_3)\n",
    "\n",
    "# fig,ax = plt.subplots()\n",
    "# ax.plot(loss_1_2, label='height=1, width=2')\n",
    "# ax.plot(loss_2_1, label='height=2, width=1')\n",
    "# ax.plot(loss_2_2, label='height=2, width=2')\n",
    "# ax.plot(loss_3_3, label='height=3, width=3')\n",
    "# ax.legend()"
   ]
  },
  {
   "cell_type": "code",
   "execution_count": 55,
   "id": "9047dd82-2b31-47db-b33e-4cb5a3888dcd",
   "metadata": {},
   "outputs": [
    {
     "data": {
      "image/png": "[encoded data removed]",
      "text/plain": [
       "<Figure size 432x288 with 1 Axes>"
      ]
     },
     "metadata": {
      "needs_background": "light"
     },
     "output_type": "display_data"
    }
   ],
   "source": [
    "param,ret0 = load_result('82843426') #(1,2)\n",
    "param,ret1 = load_result('44096990') #(2,1)\n",
    "param,ret2 = load_result('38779382') #(2,2)\n",
    "param,ret3 = load_result('18146346') #(3,3)\n",
    "len_train_set = int(param['class_size']*2*0.8)\n",
    "loss0 = np.array(ret0['loss_recorder'])/len_train_set\n",
    "loss1 = np.array(ret1['loss_recorder'])/len_train_set\n",
    "loss2 = np.array(ret2['loss_recorder'])/len_train_set\n",
    "loss3 = np.array(ret3['loss_recorder'])/len_train_set\n",
    "acc0 = ret0['test_accuracy']\n",
    "acc1 = ret1['test_accuracy']\n",
    "acc2 = ret2['test_accuracy']\n",
    "acc3 = ret3['test_accuracy']\n",
    "\n",
    "fig,ax = plt.subplots()\n",
    "ax.plot(loss0, label=f'H=1,W=2,acc={acc0:.3f}')\n",
    "ax.plot(loss1, label=f'H=2,W=1,acc={acc1:.3f}')\n",
    "ax.plot(loss2, label=f'H=2,W=2,acc={acc2:.3f}')\n",
    "ax.plot(loss3, label=f'H=3,W=3,acc={acc3:.3f}')\n",
    "ax.tick_params(axis='both', which='major', labelsize=15)\n",
    "ax.legend(fontsize='x-large')\n",
    "ax.grid()\n",
    "ax.set_ylim(0.5, 1.3)\n",
    "ax.set_xlabel('#step', fontsize='xx-large')\n",
    "ax.set_ylabel('loss', fontsize='xx-large')\n",
    "# fig.savefig('fig/draft20220209/QNN-compare-resize-image.png', dpi=100)"
   ]
  },
  {
   "cell_type": "markdown",
   "id": "0f749a98-b155-41d3-8098-49f249f9f8f4",
   "metadata": {},
   "source": [
    "the number of qubits `#qubit=height*width`\n",
    "\n",
    "`class_size=100` (total `200` samples)\n",
    "\n",
    "| `resize_image_size` | train-accuracy | test-accuracy |\n",
    "| :-: | :-: | :-: |\n",
    "| `(1,2)` | `0.668` | `0.7` |\n",
    "| `(2,1)` | `0.906` | `0.875` |\n",
    "| `(2,2)` | `0.837` | `0.75` |\n",
    "| `(3,3)` | `0.831` | `0.825` |\n",
    "\n",
    "conclusion:\n",
    "1. model with more qubits might be better\n",
    "2. lower loss doesn't always mean higher accurcy"
   ]
  },
  {
   "cell_type": "code",
   "execution_count": null,
   "id": "9e94abe2-0a2b-4ed4-9e5d-c01e5be75cf8",
   "metadata": {},
   "outputs": [],
   "source": []
  }
 ],
 "metadata": {
  "kernelspec": {
   "display_name": "Python 3 (ipykernel)",
   "language": "python",
   "name": "python3"
  },
  "language_info": {
   "codemirror_mode": {
    "name": "ipython",
    "version": 3
   },
   "file_extension": ".py",
   "mimetype": "text/x-python",
   "name": "python",
   "nbconvert_exporter": "python",
   "pygments_lexer": "ipython3",
   "version": "3.9.7"
  }
 },
 "nbformat": 4,
 "nbformat_minor": 5
}
