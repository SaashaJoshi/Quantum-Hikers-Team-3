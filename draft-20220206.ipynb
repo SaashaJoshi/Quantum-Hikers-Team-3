{
 "cells": [
  {
   "cell_type": "markdown",
   "id": "97ffdb3a-b87a-4135-b9e2-44294ed2b816",
   "metadata": {
    "jp-MarkdownHeadingCollapsed": true,
    "tags": []
   },
   "source": [
    "# draft 20220206\n",
    "\n",
    "To avoid git conflict with others modification, I create a new notebook with most code copied from the previous one `load_data.ipynb`\n",
    "\n",
    "TLDR\n",
    "\n",
    "1. code below takes less than 5 minutes to finish.\n",
    "2. `anti_alising=True` improve score greatly for both QSVM and QNN\n",
    "3. different `resize_image_size` (equivalently number of qubits) helps a little bit, but not remarkable. \n",
    "4. no large difference between `QSVM` and `QNN` results\n",
    "5. results with different parameter need only one line of code (see `QSVM/QNN all in one` section), please try it\n",
    "\n",
    "**reminder** to run the code quickly, remember to set `class_size=24` in `load_data` section. `class_size=240` might spend several hours.\n",
    "\n",
    "TODO (but time maybe not enough)\n",
    "\n",
    "1. real quantum computer device?\n",
    "2. `class_size=240`\n",
    "3. other labels: `alpha`, `beta`, etc.\n",
    "\n",
    "Table of Content\n",
    "\n",
    "1. how `skimage.transform.resize` works\n",
    "   * `skimage.transform.resize` on 1-d image\n",
    "   * `skimage.transform.resize` on 2-d image\n",
    "2. load data\n",
    "   * plot part of images and resized images\n",
    "   * select training set and test set\n",
    "3. quantum SVM (QSVM) model\n",
    "4. QSVM all in one\n",
    "   * compare `anti_alising=True` and `anti_alising=False`\n",
    "   * compare `resize_image_size`\n",
    "5. quantum Neural Network (QNN) model\n",
    "6. QNN all in one\n",
    "   * compare `anti_alising=True` and `anti_alising=False`\n",
    "   * compare `resize_image_size`"
   ]
  },
  {
   "cell_type": "code",
   "execution_count": 2,
   "id": "6954013d-c9f1-457c-8d4e-ac13a7aaabcb",
   "metadata": {},
   "outputs": [],
   "source": [
    "import os\n",
    "import glob\n",
    "import json\n",
    "import hashlib\n",
    "import PIL.Image\n",
    "import numpy as np\n",
    "import matplotlib\n",
    "import matplotlib.patches\n",
    "import matplotlib.pyplot as plt\n",
    "\n",
    "import skimage\n",
    "import sklearn.model_selection\n",
    "import sklearn.svm\n",
    "\n",
    "import concurrent.futures\n",
    "import qiskit\n",
    "import qiskit.providers.aer\n",
    "from qiskit.circuit.library import ZFeatureMap, ZZFeatureMap, PauliFeatureMap, TwoLocal\n",
    "from qiskit.algorithms.optimizers import SPSA, COBYLA, GradientDescent\n",
    "from qiskit_machine_learning.kernels import QuantumKernel\n",
    "from qiskit_machine_learning.neural_networks import CircuitQNN\n",
    "from qiskit_machine_learning.algorithms.classifiers import NeuralNetworkClassifier\n",
    "from qiskit_machine_learning.utils.loss_functions import L2Loss, CrossEntropyLoss"
   ]
  },
  {
   "cell_type": "markdown",
   "id": "de7561d4-378e-4784-88a0-b26786f82d7e",
   "metadata": {},
   "source": [
    "## how `skimage.transform.resize` works\n",
    "\n",
    "TLDR\n",
    "\n",
    "1. `skimage.transform.resize()` is the bilinear interpolation scheme [wiki](https://en.wikipedia.org/wiki/Bilinear_interpolation)\n",
    "2. `skimage.transform.resize(anti_aliasing=False)` might be not good as `skimage.transform.resize(anti_aliasing=True)` with a suitable `anti_aliasing_sigma` value, since the former only use **part of** pixels (roughly 4 pixels) of the whole image\n",
    "3. when `skimage.transform.resize(anti_aliasing=True, anti_aliasing_sigma=xxx)`, default value for `anti_aliasing_sigma` is `(s-1)/2` where `s` is the downsampling factor, see [skimage-doc](https://scikit-image.org/docs/dev/api/skimage.transform.html#resize). `anti_aliasing_sigma` controls the Gaussian filter"
   ]
  },
  {
   "cell_type": "markdown",
   "id": "6fa32f20-9d37-4234-bc17-fc87fe76e386",
   "metadata": {},
   "source": [
    "### `skimage.transform.resize` on 1-d image\n",
    "\n",
    "resize `(height=1,width=8)` image to `(height=1,width=2)`. In the figure below, 8 blue points represents a `(height=1,width=8)` image (the pixel position), 2 orange points represents a `(height=1,width=2)` image that downsampling from `(height=1,width=8)` image.\n",
    "\n",
    "when `anti_aliasing=False`, only the 4 points in red boxes make contribution to the downsampled image, points in the left (right) box contribute to the left (right) pixel by some linear combinations."
   ]
  },
  {
   "cell_type": "code",
   "execution_count": 3,
   "id": "bf3cd052-5a3f-4ea4-a883-d3fb0a7f83c9",
   "metadata": {},
   "outputs": [
    {
     "data": {
      "image/png": "[encoded data removed]",
      "text/plain": [
       "<Figure size 432x288 with 1 Axes>"
      ]
     },
     "metadata": {
      "needs_background": "light"
     },
     "output_type": "display_data"
    }
   ],
   "source": [
    "# downsample (height=1,width=8) image to (height=1,width=2) image\n",
    "hf0 = lambda x: np.arange(1, 2*x, 2)/(2*x)\n",
    "pixel8 = hf0(8)\n",
    "pixel2 = hf0(2)\n",
    "\n",
    "fig,ax = plt.subplots()\n",
    "ax.plot(pixel8, np.ones_like(pixel8)*3, '.', markersize=30, label='pixel8')\n",
    "ax.plot(pixel2, np.ones_like(pixel2)*1, '.', markersize=30, label='pixel2')\n",
    "ax.add_patch(matplotlib.patches.Rectangle((0.15,2.5),height=1,width=0.2,fill=False,color='r',label='used pixel'))\n",
    "ax.add_patch(matplotlib.patches.Rectangle((0.65,2.5),height=1,width=0.2,fill=False,color='r'))\n",
    "ax.legend()\n",
    "ax.set_xlim(0,1)\n",
    "_ = ax.set_ylim(0, 5)"
   ]
  },
  {
   "cell_type": "code",
   "execution_count": 4,
   "id": "dc4427a9-b803-4be2-8fbf-e4319db39bfe",
   "metadata": {},
   "outputs": [
    {
     "name": "stdout",
     "output_type": "stream",
     "text": [
      "image_pixel8: [[0.2961 0.8055 0.4287 0.9895 0.134  0.7221 0.097  0.1473]]\n",
      "image_pixel2: [[0.6171 0.4095]]\n",
      "image_pixel8_modified: [[0.8974 0.8055 0.4287 0.9895 0.134  0.7221 0.097  0.1473]]\n",
      "image_pixel2_modified: [[0.6171 0.4095]]\n"
     ]
    }
   ],
   "source": [
    "# randomly generate a (height=1,width=8) image (image_pixel8), and modified one unused pixel (image_pixel8_modified)\n",
    "# downsampling two images above with anti_aliasing=False will get exactly the same results, image_pixel2 and image_pixel2_modified,\n",
    "# which means that pixel has no contribution.\n",
    "# you can also try anti_aliasing=True, then almost all pixels should have contribution\n",
    "anti_aliasing = False\n",
    "\n",
    "image_pixel8 = np.random.rand(1, 8)\n",
    "image_pixel2 = skimage.transform.resize(image_pixel8, (1, 2), order=1, anti_aliasing=anti_aliasing)\n",
    "\n",
    "image_pixel8_modified = image_pixel8.copy()\n",
    "image_pixel8_modified[0,0] = np.random.rand() #replace one unused pixel (pixel-0) to a random value\n",
    "image_pixel2_modified = skimage.transform.resize(image_pixel8_modified, (1, 2), order=1, anti_aliasing=anti_aliasing)\n",
    "\n",
    "np.set_printoptions(precision=4, linewidth=220)\n",
    "print('image_pixel8:', image_pixel8)\n",
    "print('image_pixel2:', image_pixel2)\n",
    "print('image_pixel8_modified:', image_pixel8_modified)\n",
    "print('image_pixel2_modified:', image_pixel2_modified) #should be the same as image_pixel2 when anti_aliasing=False"
   ]
  },
  {
   "cell_type": "markdown",
   "id": "bc24efa7-e760-4368-b804-191a6ef7e785",
   "metadata": {},
   "source": [
    "### `skimage.transform.resize` on 2-d image\n",
    "\n",
    "resize `(height=8,width=8)` image to `(height=2,width=2)`"
   ]
  },
  {
   "cell_type": "code",
   "execution_count": 5,
   "id": "fd034033-2a1a-48f6-aaea-1b553e325484",
   "metadata": {},
   "outputs": [
    {
     "name": "stdout",
     "output_type": "stream",
     "text": [
      "image_pixel2:\n",
      " [[0.4958 0.6618]\n",
      " [0.7586 0.3793]]\n",
      "image_pixel2_modified:\n",
      " [[0.4958 0.6618]\n",
      " [0.7586 0.3793]]\n"
     ]
    }
   ],
   "source": [
    "anti_aliasing = False\n",
    "\n",
    "image_pixel8 = np.random.rand(8, 8)\n",
    "image_pixel2 = skimage.transform.resize(image_pixel8, (2, 2), order=1, anti_aliasing=anti_aliasing)\n",
    "\n",
    "image_pixel8_modified = image_pixel8.copy()\n",
    "image_pixel8_modified[0,0] = np.random.rand() #replace one unused pixel (pixel-0) to a random value\n",
    "image_pixel2_modified = skimage.transform.resize(image_pixel8_modified, (2, 2), order=1, anti_aliasing=anti_aliasing)\n",
    "\n",
    "np.set_printoptions(precision=4, linewidth=220)\n",
    "# print('image_pixel8:', image_pixel8)\n",
    "print('image_pixel2:\\n', image_pixel2)\n",
    "# print('image_pixel8_modified:', image_pixel8_modified)\n",
    "print('image_pixel2_modified:\\n', image_pixel2_modified) #should be the same as image_pixel2 when anti_aliasing=False"
   ]
  },
  {
   "cell_type": "markdown",
   "id": "68afcd99-b515-4957-8199-1ee9ecfc2f1c",
   "metadata": {},
   "source": [
    "## load data\n",
    "\n",
    "download dataset from kaggle [https://www.kaggle.com/xainano/handwrittenmathsymbols](https://www.kaggle.com/xainano/handwrittenmathsymbols) (a large `rar` file within `zip` file), and extract the images. The folder structure should be similar as below\n",
    "\n",
    "```bash\n",
    "Team-3-Quantum-Hackers-Project/\n",
    "├── README.md\n",
    "├── LICENSE\n",
    "├── .gitignore\n",
    "├── load_data.ipynb\n",
    "└── extracted_images/\n",
    "    ├── 0/\n",
    "    |   ├── 0_100070.jpg\n",
    "    |   ├── 0_100080.jpg\n",
    "    |   ├── 0_100081.jpg\n",
    "    |   └── ...\n",
    "    ├── 1/\n",
    "    ├── !/\n",
    "    ├── (/\n",
    "    ├── )/\n",
    "    └── ...\n",
    "```"
   ]
  },
  {
   "cell_type": "code",
   "execution_count": 6,
   "id": "402b12e5-99fc-487c-845d-030a26a80094",
   "metadata": {},
   "outputs": [
    {
     "name": "stdout",
     "output_type": "stream",
     "text": [
      "all label: ['beta', 'infty', 'cos', '6', '0', 'prime', '=', 'gt', 'o', 'lt', 'y', 'b', '!', 'T', 'C', 'leq', 'R', 'exists', 'p', 'N', '3', '{', 'H', 'z', 'ascii_124', 'alpha', 'sigma', '9', 'int', 'q', 'l', 'lambda', 'A', 'theta', '2', 'S', '5', 'sqrt', '7', 'sum', '4', 'v', 'e', 'M', 'forall', 'j', '-', ')', '1', 'w', '(', 'phi', 'i', ',', 'lim', 'Delta', 'G', '8', 'u', 'k', 'rightarrow', 'div', 'neq', '[', 'pi', ']', 'f', 'geq', 'pm', 'forward_slash', 'gamma', '}', 'X', '+', 'times', 'log', 'tan', 'd', 'in', 'sin', 'ldots', 'mu']\n",
      "some image path:\n",
      "beta ['extracted_images/beta/beta_57145.jpg', 'extracted_images/beta/exp26500.jpg']\n",
      "infty ['extracted_images/infty/exp96368.jpg', 'extracted_images/infty/exp78043.jpg']\n",
      "cos ['extracted_images/cos/exp48148.jpg', 'extracted_images/cos/exp91430.jpg']\n",
      "6 ['extracted_images/6/exp22030.jpg', 'extracted_images/6/6_56393.jpg']\n"
     ]
    }
   ],
   "source": [
    "# get filepath and label of all images\n",
    "datadir = 'extracted_images'\n",
    "all_label = os.listdir(datadir)\n",
    "all_image_path = {x:[os.path.join(datadir,x,y) for y in os.listdir(os.path.join(datadir,x))] for x in all_label}\n",
    "    \n",
    "print('all label:', all_label)\n",
    "print('some image path:')\n",
    "for x in list(all_image_path.keys())[:4]:\n",
    "    print(x, all_image_path[x][:2])"
   ]
  },
  {
   "cell_type": "markdown",
   "id": "38010da5-f574-4fda-8722-9477122ff151",
   "metadata": {},
   "source": [
    "### Plot parts of images and resized images"
   ]
  },
  {
   "cell_type": "code",
   "execution_count": 7,
   "id": "15a32463-7233-471e-935c-5f7cb76bf467",
   "metadata": {},
   "outputs": [
    {
     "data": {
      "image/png": "[encoded data removed]",
      "text/plain": [
       "<Figure size 1440x432 with 48 Axes>"
      ]
     },
     "metadata": {},
     "output_type": "display_data"
    }
   ],
   "source": [
    "# hyper-parameter, modify below to see the effects\n",
    "plot_label_list = ['0', '1', 'sum', 'beta']\n",
    "num_column = 6\n",
    "resize_image_size = 2,2\n",
    "anti_aliasing = True\n",
    "anti_aliasing_sigma = None #default to (s-1)/2 where s=45/2 is the downsamplign factor\n",
    "\n",
    "# plot function\n",
    "fig, ax_list = plt.subplots(nrows=len(plot_label_list), ncols=2*num_column, figsize=(20, 6))\n",
    "for i in range(len(plot_label_list)):\n",
    "    image_list = all_image_path[plot_label_list[i]]\n",
    "    random_index = np.random.choice(np.arange(len(image_list)), size=num_column)\n",
    "    for j in range(num_column):\n",
    "        path = image_list[random_index[j]]\n",
    "        image = np.array(PIL.Image.open(path))\n",
    "        image_small = skimage.transform.resize(image, resize_image_size,\n",
    "                           anti_aliasing=anti_aliasing, anti_aliasing_sigma=anti_aliasing_sigma)\n",
    "        ax_list[i,2*j].imshow(image, cmap=plt.cm.gray_r)\n",
    "        ax_list[i,2*j].set_xticks([])\n",
    "        ax_list[i,2*j].set_yticks([])\n",
    "        ax_list[i,2*j+1].imshow(image_small, cmap=plt.cm.gray_r)\n",
    "        ax_list[i,2*j+1].set_xticks([])\n",
    "        ax_list[i,2*j+1].set_yticks([])"
   ]
  },
  {
   "cell_type": "markdown",
   "id": "beb7dcda-0712-4f12-8d50-45fc88d09c04",
   "metadata": {},
   "source": [
    "### select training set and test set\n",
    "\n",
    "1. select label\n",
    "2. select part of the data, otherwise itt takes too long to train on the whole dataset\n",
    "3. split train and test set"
   ]
  },
  {
   "cell_type": "code",
   "execution_count": 8,
   "id": "e909fc38-fe61-432a-ba90-0ea715133a17",
   "metadata": {},
   "outputs": [
    {
     "name": "stdout",
     "output_type": "stream",
     "text": [
      "x_train include 38 images, each of size (45,45), range from 0.0 to 1.0\n",
      "x_test include 10 images, each of size (45,45), range from 0.0 to 1.0\n"
     ]
    }
   ],
   "source": [
    "# hyper-parameter, you can modify it to choose different label, etc.\n",
    "seed = 42 #to fix the result, change it to seed=23 or some other integer or None\n",
    "labels = ['0', '1'] #binary classification\n",
    "label_to_int = {labels[0]:0, labels[1]:1}\n",
    "#class_size=240 will take roughly half an hour to train, class_size=24 will take roughly 1 minutes\n",
    "class_size = 24\n",
    "\n",
    "data_list = []\n",
    "label_list = []\n",
    "for x in labels:\n",
    "    image_list = all_image_path[x]\n",
    "    random_index = np.random.choice(np.arange(len(image_list)), size=class_size)\n",
    "    for i in random_index:\n",
    "        path = image_list[i]\n",
    "        data_list.append(np.array(PIL.Image.open(image_list[i])))\n",
    "        label_list.append(label_to_int[x])\n",
    "\n",
    "# data_list = [skimage.transform.resize(x, resize_image_size, anti_aliasing=False).reshape(-1) for x in data_list]\n",
    "data_list = np.stack(data_list)/255 #normalized to [0,1]\n",
    "label_list = np.array(label_list)\n",
    "x_train, x_test, y_train, y_test = sklearn.model_selection.train_test_split(\n",
    "            data_list, label_list, test_size=0.2, shuffle=True, random_state=seed)\n",
    "print('x_train include {} images, each of size ({},{}), range from {} to {}'.format(*x_train.shape, x_train.min(), x_train.max()))\n",
    "print('x_test include {} images, each of size ({},{}), range from {} to {}'.format(*x_test.shape, x_test.min(), x_test.max()))"
   ]
  },
  {
   "cell_type": "markdown",
   "id": "6564ac62-1008-42c4-8d30-a334d712f375",
   "metadata": {},
   "source": [
    "auxiliary function to save and load result\n",
    "\n",
    "since training time is quite long, we can save the computed result and load it next time."
   ]
  },
  {
   "cell_type": "code",
   "execution_count": 19,
   "id": "f4d6442e-35d5-47ce-b176-28cb15305d14",
   "metadata": {},
   "outputs": [],
   "source": [
    "RESULT_DIR = 'result'\n",
    "\n",
    "def save_result(param, **kwargs):\n",
    "    param['class_size'] = class_size #number of sample per label\n",
    "    if not os.path.exists(RESULT_DIR):\n",
    "        os.makedirs(RESULT_DIR)\n",
    "    tmp0 = json.dumps(param)\n",
    "    filename = int(hashlib.sha1(tmp0.encode(\"utf-8\")).hexdigest(), 16) % (10 ** 8) #use hash as filename\n",
    "    filepath = os.path.join(RESULT_DIR, f'{filename}.json')\n",
    "    for key,value in kwargs.items():\n",
    "        if isinstance(value,np.ndarray):\n",
    "            kwargs[key] = value.tolist()\n",
    "    kwargs['param'] = param\n",
    "    with open(filepath, 'w', encoding='utf-8') as fid:\n",
    "        json.dump(kwargs, fid, indent=4)\n",
    "    return filepath\n",
    "\n",
    "\n",
    "def load_result(hashkey):\n",
    "    filepath = os.path.join(RESULT_DIR, f'{hashkey}.json')\n",
    "    assert os.path.exists(filepath)\n",
    "    with open(filepath, 'r', encoding='utf-8') as fid:\n",
    "        ret = json.load(fid)\n",
    "    param = ret.pop('param')\n",
    "    return param, ret"
   ]
  },
  {
   "cell_type": "markdown",
   "id": "2905c574-8b13-4e1d-aaa1-e562efa81492",
   "metadata": {},
   "source": [
    "## quantum SVM model"
   ]
  },
  {
   "cell_type": "markdown",
   "id": "b5d30f49-bcdf-485a-b1ed-d3171e874b10",
   "metadata": {},
   "source": [
    "hyper-parameter"
   ]
  },
  {
   "cell_type": "code",
   "execution_count": 10,
   "id": "1c77ef11-5fa5-4ddf-af03-db129325e792",
   "metadata": {},
   "outputs": [],
   "source": [
    "feature_dim = 4\n",
    "resize_image_size = 2,2\n",
    "anti_aliasing = True\n",
    "anti_aliasing_sigma = None #default to (s-1)/2 where s=44/2 is the downsamplign factor\n",
    "# normalize the data into range [normalize_min,normalize_max]\n",
    "normalize_min = 0\n",
    "normalize_max = 1\n",
    "feature_type = 'ZZ' #Pauli or ZZ\n",
    "# TODO amplitude encoding\n",
    "feature_repeat = 2 #see ZZFeatureMap argument\n",
    "qasm_shots = 1024\n",
    "seed = None #random seed\n",
    "\n",
    "# feature_dim should be the same as #pixel\n",
    "assert resize_image_size[0]*resize_image_size[1]==feature_dim"
   ]
  },
  {
   "cell_type": "markdown",
   "id": "77a649a5-2eef-4f2e-a632-77a7c7ecb162",
   "metadata": {},
   "source": [
    "resize and normalize"
   ]
  },
  {
   "cell_type": "code",
   "execution_count": 11,
   "id": "9b76e428-f4c4-450a-a30f-0fd13f6bdd64",
   "metadata": {},
   "outputs": [
    {
     "name": "stdout",
     "output_type": "stream",
     "text": [
      "x_train_normed include 38 images, each of shape (4), range from 0.000 to 1.000\n",
      "x_test_normed include 10 images, each of shape (4), range from 0.224 to 0.962\n"
     ]
    }
   ],
   "source": [
    "# resize x_train to resize_image_size, and scale it to range [normalize_min,normalize_max]\n",
    "tmp0 = np.stack([skimage.transform.resize(x, resize_image_size,\n",
    "                       anti_aliasing=anti_aliasing, anti_aliasing_sigma=anti_aliasing_sigma).reshape(-1) for x in x_train])\n",
    "scale_a = (normalize_max-normalize_min)/(tmp0.max()-tmp0.min())\n",
    "scale_b = normalize_min - tmp0.min()*scale_a\n",
    "x_train_normed = tmp0*scale_a + scale_b\n",
    "\n",
    "# resize x_test, and apply the same scale as x_train\n",
    "tmp0 = np.stack([skimage.transform.resize(x, resize_image_size,\n",
    "                       anti_aliasing=anti_aliasing, anti_aliasing_sigma=anti_aliasing_sigma).reshape(-1) for x in x_test])\n",
    "x_test_normed = tmp0*scale_a + scale_b\n",
    "\n",
    "# print the shape, range information\n",
    "print('x_train_normed include {} images, each of shape ({}), range from {:.3f} to {:.3f}'.format(*x_train_normed.shape, x_train_normed.min(), x_train_normed.max()))\n",
    "print('x_test_normed include {} images, each of shape ({}), range from {:.3f} to {:.3f}'.format(*x_test_normed.shape, x_test_normed.min(), x_test_normed.max()))"
   ]
  },
  {
   "cell_type": "markdown",
   "id": "0bcf23c7-9253-426b-b9c1-a57ee0bcfeee",
   "metadata": {},
   "source": [
    "create a new quantum simulator, or we can replace it with a real quantum computer instance in the future."
   ]
  },
  {
   "cell_type": "code",
   "execution_count": 12,
   "id": "b62b7ded-1e88-4906-87ca-fb08188773f6",
   "metadata": {},
   "outputs": [],
   "source": [
    "aer_qasm_sim = qiskit.providers.aer.QasmSimulator()\n",
    "qi_aer_qasm = qiskit.utils.QuantumInstance(aer_qasm_sim, shots=qasm_shots, seed_simulator=seed)"
   ]
  },
  {
   "cell_type": "markdown",
   "id": "acff8bce-5c95-4910-8ae3-8807975427d5",
   "metadata": {},
   "source": [
    "create `feature_map`, `feature_kernel`, and draw the circuit"
   ]
  },
  {
   "cell_type": "code",
   "execution_count": 13,
   "id": "576e66d8-1d14-4f18-8a0a-29b2251b7b35",
   "metadata": {},
   "outputs": [
    {
     "data": {
      "image/png": "[encoded data removed]",
      "text/plain": [
       "<Figure size 1471.2x325.08 with 1 Axes>"
      ]
     },
     "execution_count": 13,
     "metadata": {},
     "output_type": "execute_result"
    }
   ],
   "source": [
    "if feature_type=='ZZ':\n",
    "    feature_map = ZZFeatureMap(feature_dimension=feature_dim, reps=feature_repeat, entanglement='linear')\n",
    "else:\n",
    "    feature_map = PauliFeatureMap(feature_dimension=feature_dim, reps=feature_repeat, entanglement='linear')\n",
    "feature_kernel = QuantumKernel(feature_map=feature_map, quantum_instance=qi_aer_qasm)\n",
    "\n",
    "#Constructing the inner product circuit for given datapoints and feature map\n",
    "feature_circuit = feature_kernel.construct_circuit(x_train_normed[0], x_train_normed[1])\n",
    "feature_circuit.decompose().draw('mpl')"
   ]
  },
  {
   "cell_type": "markdown",
   "id": "4613547d-322f-4afe-8227-1037d6a25d88",
   "metadata": {},
   "source": [
    "train and evaluate the model"
   ]
  },
  {
   "cell_type": "code",
   "execution_count": 14,
   "id": "30b0e776-8f13-4134-bde7-4b9a716a113a",
   "metadata": {},
   "outputs": [
    {
     "name": "stdout",
     "output_type": "stream",
     "text": [
      "classification accuracy on train set (size=38): 1.0\n",
      "classification accuracy on test set (size=10): 0.9\n"
     ]
    }
   ],
   "source": [
    "# train quantum SVM model with train set\n",
    "model = sklearn.svm.SVC(kernel= feature_kernel.evaluate)\n",
    "model.fit(x_train_normed, y_train)\n",
    "\n",
    "# evaluate QSVM using train set\n",
    "accuracy = model.score(x_train_normed, y_train)\n",
    "print(f'classification accuracy on train set (size={len(y_train)}): {accuracy}')\n",
    "\n",
    "# evaluate QSVM using set set\n",
    "accuracy = model.score(x_test_normed, y_test)\n",
    "print(f'classification accuracy on test set (size={len(y_test)}): {accuracy}')"
   ]
  },
  {
   "cell_type": "markdown",
   "id": "41a1fb85-00fc-4b85-bddb-f5a164ca9fbd",
   "metadata": {},
   "source": [
    "## QSVM all in one\n",
    "\n",
    "Bundle all above in one code block, and run it with different hyper-parameter. Please go through the section above to get the meaning of the below code."
   ]
  },
  {
   "cell_type": "code",
   "execution_count": 15,
   "id": "becea8c8-68a7-47cb-b5da-0d3d8cbc7ea3",
   "metadata": {},
   "outputs": [],
   "source": [
    "def QSVM_all_in_one(param:dict):\n",
    "    param = dict(param) #make a copy\n",
    "    # set default value\n",
    "    param.setdefault('feature_dim', 4)\n",
    "    param.setdefault('resize_image_size', (2,2))\n",
    "    param.setdefault('anti_aliasing', True)\n",
    "    #anti_aliasing_sigma default to (s-1)/2 where s=44/2 is the downsamplign factor\n",
    "    param.setdefault('anti_aliasing_sigma', None)\n",
    "    # normalize the data into range [normalize_min,normalize_max]\n",
    "    param.setdefault('normalize_min', 0)\n",
    "    param.setdefault('normalize_max', 1)\n",
    "    param.setdefault('feature_type', 'ZZ') #ZZ or Pauli\n",
    "    # TODO amplitude encoding\n",
    "    param.setdefault('feature_repeat', 2) #see ZZFeatureMap argument\n",
    "    param.setdefault('qasm_shots', 1024)\n",
    "    param.setdefault('seed', None)\n",
    "    \n",
    "    feature_dim = param['feature_dim']\n",
    "    resize_image_size = param['resize_image_size']\n",
    "    anti_aliasing = param['anti_aliasing']\n",
    "    anti_aliasing_sigma = param['anti_aliasing_sigma']\n",
    "    normalize_min = param['normalize_min']\n",
    "    normalize_max = param['normalize_max']\n",
    "    feature_type = param['feature_type']\n",
    "    feature_repeat = param['feature_repeat']\n",
    "    qasm_shots = param['qasm_shots']\n",
    "    seed = param['seed']\n",
    "\n",
    "    # resize x_train to resize_image_size, and scale it to range [normalize_min,normalize_max]\n",
    "    tmp0 = np.stack([skimage.transform.resize(x, resize_image_size,\n",
    "                           anti_aliasing=anti_aliasing, anti_aliasing_sigma=anti_aliasing_sigma).reshape(-1) for x in x_train])\n",
    "    scale_a = (normalize_max-normalize_min)/(tmp0.max()-tmp0.min())\n",
    "    scale_b = normalize_min - tmp0.min()*scale_a\n",
    "    x_train_normed = tmp0*scale_a + scale_b\n",
    "\n",
    "    # resize x_test, and apply the same scale as x_train\n",
    "    tmp0 = np.stack([skimage.transform.resize(x, resize_image_size,\n",
    "                           anti_aliasing=anti_aliasing, anti_aliasing_sigma=anti_aliasing_sigma).reshape(-1) for x in x_test])\n",
    "    x_test_normed = tmp0*scale_a + scale_b\n",
    "\n",
    "    # print the shape, range information\n",
    "    print('x_train_normed include {} images, each of shape ({}), range from {:.3f} to {:.3f}'.format(*x_train_normed.shape, x_train_normed.min(), x_train_normed.max()))\n",
    "    print('x_test_normed include {} images, each of shape ({}), range from {:.3f} to {:.3f}'.format(*x_test_normed.shape, x_test_normed.min(), x_test_normed.max()))\n",
    "\n",
    "    aer_qasm_sim = qiskit.providers.aer.QasmSimulator()\n",
    "    qi_aer_qasm = qiskit.utils.QuantumInstance(aer_qasm_sim, shots=qasm_shots, seed_simulator=seed)\n",
    "\n",
    "    if feature_type=='ZZ':\n",
    "        feature_map = ZZFeatureMap(feature_dimension=feature_dim, reps=feature_repeat, entanglement='linear')\n",
    "    else:\n",
    "        feature_map = PauliFeatureMap(feature_dimension=feature_dim, reps=feature_repeat, entanglement='linear')\n",
    "    feature_kernel = QuantumKernel(feature_map=feature_map, quantum_instance=qi_aer_qasm)\n",
    "\n",
    "    # train quantum SVM model with train set\n",
    "    model = sklearn.svm.SVC(kernel= feature_kernel.evaluate)\n",
    "    model.fit(x_train_normed, y_train)\n",
    "\n",
    "    train_accuracy = model.score(x_train_normed, y_train)\n",
    "    print(f'classification accuracy on train set (size={len(y_train)}): {train_accuracy}')\n",
    "\n",
    "    test_accuracy = model.score(x_test_normed, y_test)\n",
    "    print(f'classification accuracy on test set (size={len(y_test)}): {test_accuracy}')\n",
    "    return param,train_accuracy,test_accuracy\n"
   ]
  },
  {
   "cell_type": "markdown",
   "id": "b06db1a6-9fed-4ea4-a2c0-a0e153aaee36",
   "metadata": {},
   "source": [
    "### compare `anti_aliasing=True` and `anti_aliasing=False`\n",
    "\n",
    "`class_size=24` (total `48` samples)\n",
    "\n",
    "| `anti_aliasing` | train-accuracy | test-accuracy |\n",
    "| :-: | :-: | :-: |\n",
    "| `True` | `1.0` | `0.9` |\n",
    "| `False` | `0.631` | `0.4` |\n",
    "\n",
    "conclusion: `anti_aliasing=True` is much better than `anti_aliasing=False`"
   ]
  },
  {
   "cell_type": "code",
   "execution_count": 21,
   "id": "946fe1bb-ba15-4eb6-af0c-38fa67ac841f",
   "metadata": {},
   "outputs": [
    {
     "name": "stdout",
     "output_type": "stream",
     "text": [
      "x_train_normed include 38 images, each of shape (4), range from 0.000 to 1.000\n",
      "x_test_normed include 10 images, each of shape (4), range from 0.224 to 0.962\n",
      "classification accuracy on train set (size=38): 1.0\n",
      "classification accuracy on test set (size=10): 0.9\n"
     ]
    },
    {
     "data": {
      "text/plain": [
       "'result/39645972.json'"
      ]
     },
     "execution_count": 21,
     "metadata": {},
     "output_type": "execute_result"
    }
   ],
   "source": [
    "param = {'anti_aliasing':True, 'seed':None}\n",
    "param,train_accuracy,test_accuracy = QSVM_all_in_one(param)\n",
    "save_result(param=param, train_accuracy=train_accuracy, test_accuracy=test_accuracy)"
   ]
  },
  {
   "cell_type": "code",
   "execution_count": 22,
   "id": "b39a961c-d315-49b6-a969-91698e6d3103",
   "metadata": {},
   "outputs": [
    {
     "name": "stdout",
     "output_type": "stream",
     "text": [
      "x_train_normed include 38 images, each of shape (4), range from 0.000 to 1.000\n",
      "x_test_normed include 10 images, each of shape (4), range from 0.001 to 1.000\n",
      "classification accuracy on train set (size=38): 0.631578947368421\n",
      "classification accuracy on test set (size=10): 0.4\n"
     ]
    },
    {
     "data": {
      "text/plain": [
       "'result/50987404.json'"
      ]
     },
     "execution_count": 22,
     "metadata": {},
     "output_type": "execute_result"
    }
   ],
   "source": [
    "param = {'anti_aliasing':False, 'seed':None}\n",
    "param,train_accuracy,test_accuracy = QSVM_all_in_one(param)\n",
    "save_result(param=param, train_accuracy=train_accuracy, test_accuracy=test_accuracy)"
   ]
  },
  {
   "cell_type": "markdown",
   "id": "2dce270b-6e61-4602-8181-4c2bc1575a67",
   "metadata": {},
   "source": [
    "### compare `resize_image_size`\n",
    "\n",
    "for different `resize_image_size`, we have the equal number of qubit `#qubits=height*width`\n",
    "\n",
    "`class_size=24` (total `48` samples)\n",
    "\n",
    "| `resize_image_size` | train-accuracy | test-accuracy |\n",
    "| :-: | :-: | :-: |\n",
    "| `(1,2)` | `0.921` | `0.9` |\n",
    "| `(2,1)` | `0.921` | `0.9` |\n",
    "| `(2,2)` | `1.0` | `0.9` |\n",
    "| `(3,3)` | `1.0` | `0.9` |\n",
    "\n",
    "conclusion: model with more qubits might be more powerful than that with less qubits"
   ]
  },
  {
   "cell_type": "code",
   "execution_count": 28,
   "id": "61e202ce-1a2e-4914-a521-56b59832705b",
   "metadata": {},
   "outputs": [
    {
     "name": "stdout",
     "output_type": "stream",
     "text": [
      "x_train_normed include 38 images, each of shape (2), range from 0.000 to 1.000\n",
      "x_test_normed include 10 images, each of shape (2), range from 0.314 to 0.988\n",
      "classification accuracy on train set (size=38): 0.9210526315789473\n",
      "classification accuracy on test set (size=10): 0.9\n",
      "x_train_normed include 38 images, each of shape (2), range from 0.000 to 1.000\n",
      "x_test_normed include 10 images, each of shape (2), range from 0.361 to 0.987\n",
      "classification accuracy on train set (size=38): 0.9210526315789473\n",
      "classification accuracy on test set (size=10): 0.9\n",
      "x_train_normed include 38 images, each of shape (4), range from 0.000 to 1.000\n",
      "x_test_normed include 10 images, each of shape (4), range from 0.224 to 0.962\n",
      "classification accuracy on train set (size=38): 1.0\n",
      "classification accuracy on test set (size=10): 0.9\n",
      "x_train_normed include 38 images, each of shape (9), range from 0.000 to 1.000\n",
      "x_test_normed include 10 images, each of shape (9), range from 0.298 to 0.997\n",
      "classification accuracy on train set (size=38): 1.0\n",
      "classification accuracy on test set (size=10): 0.9\n"
     ]
    },
    {
     "data": {
      "text/plain": [
       "'result/59118652.json'"
      ]
     },
     "execution_count": 28,
     "metadata": {},
     "output_type": "execute_result"
    }
   ],
   "source": [
    "param = {'anti_aliasing':True, 'feature_dim':2, 'resize_image_size':(1,2)}\n",
    "param, train_accuracy, test_accuracy = QSVM_all_in_one(param)\n",
    "save_result(param=param, train_accuracy=train_accuracy, test_accuracy=test_accuracy)\n",
    "\n",
    "param = {'anti_aliasing':True, 'feature_dim':2, 'resize_image_size':(2,1)}\n",
    "param, train_accuracy, test_accuracy = QSVM_all_in_one(param)\n",
    "save_result(param=param, train_accuracy=train_accuracy, test_accuracy=test_accuracy)\n",
    "\n",
    "param = {'anti_aliasing':True, 'feature_dim':4, 'resize_image_size':(2,2)}\n",
    "param, train_accuracy, test_accuracy = QSVM_all_in_one(param)\n",
    "save_result(param=param, train_accuracy=train_accuracy, test_accuracy=test_accuracy)\n",
    "\n",
    "param = {'anti_aliasing':True, 'feature_dim':9, 'resize_image_size':(3,3)}\n",
    "param, train_accuracy, test_accuracy = QSVM_all_in_one(param)\n",
    "save_result(param=param, train_accuracy=train_accuracy, test_accuracy=test_accuracy)"
   ]
  },
  {
   "cell_type": "markdown",
   "id": "ae083b11-63a8-439f-9969-81226e981b56",
   "metadata": {},
   "source": [
    "## quantum neural network (QNN) model"
   ]
  },
  {
   "cell_type": "markdown",
   "id": "b1875e1a-bcb0-45db-8693-030608ee9e35",
   "metadata": {},
   "source": [
    "auxiliary functions"
   ]
  },
  {
   "cell_type": "code",
   "execution_count": 23,
   "id": "19d7fa6c-3e46-460f-a927-2db34bbf8b70",
   "metadata": {},
   "outputs": [],
   "source": [
    "def parity(x, num_classes):\n",
    "    return f\"{x:b}\".count(\"1\") % num_classes\n",
    "\n",
    "def one_qubit_binary(x):\n",
    "    return x % 2\n",
    "\n",
    "def callback_wrapper(loss_recorder:list):\n",
    "    def callback(nfev, params, fval, stepsize, accepted=None):\n",
    "        \"\"\"\n",
    "        Can be used for SPSA and GradientDescent optimizers\n",
    "        nfev: the number of function evals\n",
    "        params: the current parameters\n",
    "        fval: the current function value\n",
    "        stepsize: size of the update step\n",
    "        accepted: whether the step was accepted (not used for )\n",
    "        \"\"\"\n",
    "        loss_recorder.append(fval)\n",
    "        if nfev%21==0: #print less\n",
    "            print(f'{nfev} - {fval}')\n",
    "    return callback\n",
    "\n",
    "def get_one_hot_encoding(y):\n",
    "    N0 = len(y)\n",
    "    ret = np.zeros((N0,2), dtype=np.int64)\n",
    "    ret[np.arange(N0), y] = 1\n",
    "    return ret"
   ]
  },
  {
   "cell_type": "markdown",
   "id": "a1978604-ba5e-40f0-9780-ee44337cf143",
   "metadata": {},
   "source": [
    "hyper-parameter. modify this code block, and run the following code blocks"
   ]
  },
  {
   "cell_type": "code",
   "execution_count": 28,
   "id": "acf7409a-6d3b-4de1-aa38-5c691882ce69",
   "metadata": {},
   "outputs": [],
   "source": [
    "feature_dim = 4\n",
    "resize_image_size = 2,2\n",
    "anti_aliasing = True\n",
    "anti_aliasing_sigma = None #default to (s-1)/2 where s=44/2 is the downsamplign factor\n",
    "# normalize the data into range [normalize_min,normalize_max]\n",
    "normalize_min = 0\n",
    "normalize_max = 1\n",
    "feature_type = 'ZZ' #Pauli or ZZ\n",
    "# TODO amplitude encoding\n",
    "feature_repeat = 2 #see ZZFeatureMap argument\n",
    "ansatz_repeat = 2 #see TwoLocal argument\n",
    "qasm_shots = 1024\n",
    "seed = None #random seed\n",
    "maxiter = 100\n",
    "\n",
    "# feature_dim should be the same as #pixel\n",
    "assert resize_image_size[0]*resize_image_size[1]==feature_dim\n",
    "\n",
    "np_rng = np.random.default_rng(seed)"
   ]
  },
  {
   "cell_type": "markdown",
   "id": "eef564f4-0d3c-4a21-a42f-f13ac9cf952a",
   "metadata": {},
   "source": [
    "resize, normalize, one-hot coding"
   ]
  },
  {
   "cell_type": "code",
   "execution_count": 30,
   "id": "88bb3664-6ef6-4486-857e-6c0a03b6ee9e",
   "metadata": {},
   "outputs": [
    {
     "name": "stdout",
     "output_type": "stream",
     "text": [
      "x_train_normed include 38 images, each of shape (4), range from 0.000 to 1.000\n",
      "x_test_normed include 10 images, each of shape (4), range from 0.354 to 1.009\n"
     ]
    }
   ],
   "source": [
    "# resize x_train to resize_image_size, and scale it to range [normalize_min,normalize_max]\n",
    "tmp0 = np.stack([skimage.transform.resize(x, resize_image_size,\n",
    "                       anti_aliasing=anti_aliasing, anti_aliasing_sigma=anti_aliasing_sigma).reshape(-1) for x in x_train])\n",
    "scale_a = (normalize_max-normalize_min)/(tmp0.max()-tmp0.min())\n",
    "scale_b = normalize_min - tmp0.min()*scale_a\n",
    "x_train_normed = tmp0*scale_a + scale_b\n",
    "\n",
    "y_train_1h = get_one_hot_encoding(y_train)\n",
    "\n",
    "# resize x_test, and apply the same scale as x_train\n",
    "tmp0 = np.stack([skimage.transform.resize(x, resize_image_size,\n",
    "                       anti_aliasing=anti_aliasing, anti_aliasing_sigma=anti_aliasing_sigma).reshape(-1) for x in x_test])\n",
    "x_test_normed = tmp0*scale_a + scale_b\n",
    "\n",
    "y_test_1h = get_one_hot_encoding(y_test)\n",
    "\n",
    "# print the shape, range information\n",
    "print('x_train_normed include {} images, each of shape ({}), range from {:.3f} to {:.3f}'.format(*x_train_normed.shape, x_train_normed.min(), x_train_normed.max()))\n",
    "print('x_test_normed include {} images, each of shape ({}), range from {:.3f} to {:.3f}'.format(*x_test_normed.shape, x_test_normed.min(), x_test_normed.max()))"
   ]
  },
  {
   "cell_type": "markdown",
   "id": "9d01ebab-e76f-48dd-b205-5e8d0d88f2d1",
   "metadata": {},
   "source": [
    "create a new quantum simulator, or we can replace it with a real quantum computer instance in the future."
   ]
  },
  {
   "cell_type": "code",
   "execution_count": 31,
   "id": "45365d7d-dc8e-4e7e-ba78-cd6e4008cbee",
   "metadata": {},
   "outputs": [],
   "source": [
    "aer_qasm_sim = qiskit.providers.aer.QasmSimulator()\n",
    "qi_aer_qasm = qiskit.utils.QuantumInstance(aer_qasm_sim, shots=qasm_shots, seed_simulator=seed)"
   ]
  },
  {
   "cell_type": "markdown",
   "id": "db694a24-98f7-4e9a-b29e-d9bca0a2a88d",
   "metadata": {},
   "source": [
    "feature encoding circuit (without trainable parameters)"
   ]
  },
  {
   "cell_type": "code",
   "execution_count": 32,
   "id": "2109db46-6a47-49b7-86d1-dfe30a508d7b",
   "metadata": {},
   "outputs": [
    {
     "data": {
      "image/png": "[encoded data removed]",
      "text/plain": [
       "<Figure size 1114.12x396.116 with 1 Axes>"
      ]
     },
     "execution_count": 32,
     "metadata": {},
     "output_type": "execute_result"
    }
   ],
   "source": [
    "if feature_type=='ZZ':\n",
    "    feature_map = ZZFeatureMap(feature_dimension=feature_dim, reps=feature_repeat, entanglement='linear')\n",
    "else:\n",
    "    feature_map = PauliFeatureMap(feature_dimension=feature_dim, reps=feature_repeat, entanglement='linear')\n",
    "feature_map.decompose().draw('mpl', scale=0.7)"
   ]
  },
  {
   "cell_type": "markdown",
   "id": "8c6f3441-e996-4cf8-8d75-e2b20b5fd37d",
   "metadata": {},
   "source": [
    "ansatz circuit (with trainable parameters)"
   ]
  },
  {
   "cell_type": "code",
   "execution_count": 36,
   "id": "723da6d4-36f7-4440-afd4-b01b597e4d8a",
   "metadata": {},
   "outputs": [
    {
     "data": {
      "image/png": "[encoded data removed]",
      "text/plain": [
       "<Figure size 524.158x185.416 with 1 Axes>"
      ]
     },
     "execution_count": 36,
     "metadata": {},
     "output_type": "execute_result"
    }
   ],
   "source": [
    "ansatz = TwoLocal(num_qubits=feature_dim, rotation_blocks=['ry', 'rz'],\n",
    "                         entanglement_blocks='cx', entanglement='linear', reps=ansatz_repeat)\n",
    "ansatz.bind_parameters(np.zeros(len(ansatz.parameters)))\n",
    "ansatz.decompose().draw('mpl', scale=0.7)"
   ]
  },
  {
   "cell_type": "markdown",
   "id": "2f1af0b8-e094-409a-bd85-2f00420d8cf4",
   "metadata": {},
   "source": [
    "combine feature map circuit and ansatz circuit to make a quantum neural network"
   ]
  },
  {
   "cell_type": "code",
   "execution_count": 34,
   "id": "ba330121-e1db-49fe-a640-5eda145adfdd",
   "metadata": {},
   "outputs": [],
   "source": [
    "qnn_circuit = feature_map.compose(ansatz)\n",
    "num_classes = 2\n",
    "\n",
    "qnn = CircuitQNN(circuit=qnn_circuit,\n",
    "                 input_params=feature_map.parameters,  # if your embedding strategy is not a parametrized circuit \n",
    "                                                   # (e.g. amplitude encoding) you will have to do some extra work!\n",
    "                 weight_params=ansatz.parameters,  # if you train your embedding as well, the trainable\n",
    "                                                      # parameters of the embedding must be added\n",
    "                 interpret=one_qubit_binary,\n",
    "                 output_shape=num_classes,\n",
    "                 gradient=None,\n",
    "                 quantum_instance=qi_aer_qasm)\n",
    "\n",
    "loss_recorder = []\n",
    "spsa_opt = SPSA(maxiter=maxiter, callback=callback_wrapper(loss_recorder))\n",
    "initial_point = np_rng.uniform(0,2*np.pi,size=len(ansatz.parameters))\n",
    "vqc = NeuralNetworkClassifier(neural_network=qnn,\n",
    "                              loss=CrossEntropyLoss(),\n",
    "                              one_hot=True,\n",
    "                              optimizer=spsa_opt,\n",
    "                              initial_point=initial_point)"
   ]
  },
  {
   "cell_type": "markdown",
   "id": "525447f1-1372-421a-a720-348b54677d54",
   "metadata": {},
   "source": [
    "train and evalute the QNN model"
   ]
  },
  {
   "cell_type": "code",
   "execution_count": 35,
   "id": "deb05a43-5ced-4b01-b064-0c51270f68ea",
   "metadata": {},
   "outputs": [
    {
     "name": "stdout",
     "output_type": "stream",
     "text": [
      "21 - 26.679309407409033\n",
      "42 - 25.888959711595046\n",
      "63 - 25.279758646844797\n",
      "84 - 24.965824170529242\n",
      "105 - 24.52320927446881\n",
      "126 - 24.340511950721925\n",
      "147 - 24.13001428047971\n",
      "168 - 23.948766843142533\n",
      "189 - 24.131224988752223\n",
      "210 - 23.53415893334317\n",
      "231 - 23.557428280043556\n",
      "252 - 22.857902840593287\n",
      "273 - 22.223236990649987\n",
      "294 - 21.820211901596487\n",
      "accuracy on the train set (size=38): 0.9736842105263158\n",
      "accuracy on the test set (size=10) 1.0\n"
     ]
    },
    {
     "data": {
      "text/plain": [
       "[<matplotlib.lines.Line2D at 0x7fc6a4f9e9a0>]"
      ]
     },
     "execution_count": 35,
     "metadata": {},
     "output_type": "execute_result"
    },
    {
     "data": {
      "image/png": "[encoded data removed]",
      "text/plain": [
       "<Figure size 432x288 with 1 Axes>"
      ]
     },
     "metadata": {
      "needs_background": "light"
     },
     "output_type": "display_data"
    }
   ],
   "source": [
    "# train using train set\n",
    "vqc.fit(x_train_normed, y_train_1h)\n",
    "\n",
    "# evaluate on the train set and test set\n",
    "train_accuracy = vqc.score(x_train_normed, y_train_1h)\n",
    "test_accuracy = vqc.score(x_test_normed, y_test_1h)\n",
    "print(f'accuracy on the train set (size={len(x_train)}): {train_accuracy}')\n",
    "print(f'accuracy on the test set (size={len(x_test)}) {test_accuracy}')\n",
    "\n",
    "# plot the loss curve\n",
    "plt.plot(loss_recorder)"
   ]
  },
  {
   "cell_type": "markdown",
   "id": "57876dc0-55d4-4112-a2f9-9ddb4876acc8",
   "metadata": {},
   "source": [
    "## QNN all in one\n",
    "\n",
    "Bundle all above in one code block, and run it with different hyper-parameter. Please go through the section above to get the meaning of the below code."
   ]
  },
  {
   "cell_type": "code",
   "execution_count": 24,
   "id": "f6fb640b-d66b-4d93-b0ad-78a182b01a62",
   "metadata": {},
   "outputs": [],
   "source": [
    "def QNN_all_in_one(param):\n",
    "    param = dict(param) #make a copy\n",
    "    # set default value\n",
    "    param.setdefault('feature_dim', 4)\n",
    "    param.setdefault('resize_image_size', (2,2))\n",
    "    param.setdefault('anti_aliasing', True)\n",
    "    #anti_aliasing_sigma default to (s-1)/2 where s=44/2 is the downsamplign factor\n",
    "    param.setdefault('anti_aliasing_sigma', None)\n",
    "    # normalize the data into range [normalize_min,normalize_max]\n",
    "    param.setdefault('normalize_min', 0)\n",
    "    param.setdefault('normalize_max', 1)\n",
    "    param.setdefault('feature_type', 'ZZ') #ZZ or Pauli\n",
    "    # TODO amplitude encoding\n",
    "    param.setdefault('feature_repeat', 2) #see ZZFeatureMap argument\n",
    "    param.setdefault('ansatz_repeat', 2) #see TwoLocal argument\n",
    "    param.setdefault('qasm_shots', 1024)\n",
    "    param.setdefault('maxiter', 100)\n",
    "    param.setdefault('seed', None)\n",
    "    \n",
    "    feature_dim = param['feature_dim']\n",
    "    resize_image_size = param['resize_image_size']\n",
    "    anti_aliasing = param['anti_aliasing']\n",
    "    anti_aliasing_sigma = param['anti_aliasing_sigma']\n",
    "    normalize_min = param['normalize_min']\n",
    "    normalize_max = param['normalize_max']\n",
    "    feature_type = param['feature_type']\n",
    "    feature_repeat = param['feature_repeat']\n",
    "    ansatz_repeat = param['ansatz_repeat']\n",
    "    qasm_shots = param['qasm_shots']\n",
    "    maxiter = param['maxiter']\n",
    "    seed = param['seed']\n",
    "    np_rng = np.random.default_rng(seed)\n",
    "\n",
    "    # resize x_train to resize_image_size, and scale it to range [normalize_min,normalize_max]\n",
    "    tmp0 = np.stack([skimage.transform.resize(x, resize_image_size,\n",
    "                           anti_aliasing=anti_aliasing, anti_aliasing_sigma=anti_aliasing_sigma).reshape(-1) for x in x_train])\n",
    "    scale_a = (normalize_max-normalize_min)/(tmp0.max()-tmp0.min())\n",
    "    scale_b = normalize_min - tmp0.min()*scale_a\n",
    "    x_train_normed = tmp0*scale_a + scale_b\n",
    "\n",
    "    y_train_1h = get_one_hot_encoding(y_train)\n",
    "\n",
    "    # resize x_test, and apply the same scale as x_train\n",
    "    tmp0 = np.stack([skimage.transform.resize(x, resize_image_size,\n",
    "                           anti_aliasing=anti_aliasing, anti_aliasing_sigma=anti_aliasing_sigma).reshape(-1) for x in x_test])\n",
    "    x_test_normed = tmp0*scale_a + scale_b\n",
    "\n",
    "    y_test_1h = get_one_hot_encoding(y_test)\n",
    "\n",
    "    # print the shape, range information\n",
    "    print('x_train_normed include {} images, each of shape ({}), range from {:.3f} to {:.3f}'.format(*x_train_normed.shape, x_train_normed.min(), x_train_normed.max()))\n",
    "    print('x_test_normed include {} images, each of shape ({}), range from {:.3f} to {:.3f}'.format(*x_test_normed.shape, x_test_normed.min(), x_test_normed.max()))\n",
    "\n",
    "    aer_qasm_sim = qiskit.providers.aer.QasmSimulator()\n",
    "    qi_aer_qasm = qiskit.utils.QuantumInstance(aer_qasm_sim, shots=qasm_shots, seed_simulator=seed)\n",
    "\n",
    "    if feature_type=='ZZ':\n",
    "        feature_map = ZZFeatureMap(feature_dimension=feature_dim, reps=feature_repeat, entanglement='linear')\n",
    "    else:\n",
    "        feature_map = PauliFeatureMap(feature_dimension=feature_dim, reps=feature_repeat, entanglement='linear')\n",
    "\n",
    "    ansatz = TwoLocal(num_qubits=feature_dim, rotation_blocks=['ry', 'rz'],\n",
    "                     entanglement_blocks='cx', entanglement='linear', reps=ansatz_repeat)\n",
    "\n",
    "    qnn_circuit = feature_map.compose(ansatz)\n",
    "    num_classes = 2\n",
    "    qnn = CircuitQNN(circuit=qnn_circuit, input_params=feature_map.parameters, weight_params=ansatz.parameters,\n",
    "                interpret=one_qubit_binary, output_shape=num_classes, gradient=None, quantum_instance=qi_aer_qasm)\n",
    "\n",
    "    loss_recorder = []\n",
    "    spsa_opt = SPSA(maxiter=maxiter, callback=callback_wrapper(loss_recorder))\n",
    "    initial_point = np_rng.uniform(0,2*np.pi,size=len(ansatz.parameters))\n",
    "    vqc = NeuralNetworkClassifier(neural_network=qnn, loss=CrossEntropyLoss(),\n",
    "                              one_hot=True, optimizer=spsa_opt, initial_point=initial_point)\n",
    "\n",
    "    # train using train set\n",
    "    vqc.fit(x_train_normed, y_train_1h)\n",
    "\n",
    "    # evaluate on the train set and test set\n",
    "    train_accuracy = vqc.score(x_train_normed, y_train_1h)\n",
    "    test_accuracy = vqc.score(x_test_normed, y_test_1h)\n",
    "    print(f'accuracy on the train set (size={len(x_train)}): {train_accuracy}')\n",
    "    print(f'accuracy on the test set (size={len(x_test)}) {test_accuracy}')\n",
    "    return param,train_accuracy, test_accuracy, loss_recorder\n"
   ]
  },
  {
   "cell_type": "markdown",
   "id": "db053f02-0874-4ad5-8f55-5365066de2e3",
   "metadata": {},
   "source": [
    "### compare `anti_aliasing=True` and `anti_aliasing=False`\n",
    "\n",
    "`class_size=24` (total `48` samples)\n",
    "\n",
    "| `anti_aliasing` | train-accuracy | test-accuracy |\n",
    "| :-: | :-: | :-: |\n",
    "| `True` | `0.894` | `0.8` |\n",
    "| `False` | `0.605` | `0.4` |\n",
    "\n",
    "conclusion: `anti_aliasing=True` is much better than `anti_aliasing=False`"
   ]
  },
  {
   "cell_type": "code",
   "execution_count": 25,
   "id": "7bfc0149-a4fd-4838-abe0-3b19e7a8b0a9",
   "metadata": {},
   "outputs": [
    {
     "name": "stdout",
     "output_type": "stream",
     "text": [
      "x_train_normed include 38 images, each of shape (4), range from 0.000 to 1.000\n",
      "x_test_normed include 10 images, each of shape (4), range from 0.224 to 0.962\n",
      "21 - 35.93101650312021\n",
      "42 - 27.672731961215792\n",
      "63 - 27.757870288589256\n",
      "84 - 27.085656208072823\n",
      "105 - 26.809800656782766\n",
      "126 - 26.179303421349836\n",
      "147 - 25.07543678710252\n",
      "168 - 24.66124313460952\n",
      "189 - 24.437921628123547\n",
      "210 - 24.34999540029533\n",
      "231 - 24.569608507249665\n",
      "252 - 23.834100574685426\n",
      "273 - 24.108922875837678\n",
      "294 - 23.806716868721523\n",
      "accuracy on the train set (size=38): 0.8947368421052632\n",
      "accuracy on the test set (size=10) 0.8\n"
     ]
    },
    {
     "data": {
      "text/plain": [
       "[<matplotlib.lines.Line2D at 0x7f44d82d1100>]"
      ]
     },
     "execution_count": 25,
     "metadata": {},
     "output_type": "execute_result"
    },
    {
     "data": {
      "image/png": "[encoded data removed]",
      "text/plain": [
       "<Figure size 432x288 with 1 Axes>"
      ]
     },
     "metadata": {
      "needs_background": "light"
     },
     "output_type": "display_data"
    }
   ],
   "source": [
    "param = {'anti_aliasing':True, 'seed':None}\n",
    "param, train_accuracy, test_accuracy, loss_recorder = QNN_all_in_one(param)\n",
    "save_result(param=param, train_accuracy=train_accuracy, test_accuracy=test_accuracy, loss_recorder=loss_recorder)\n",
    "plt.plot(loss_recorder)"
   ]
  },
  {
   "cell_type": "code",
   "execution_count": 26,
   "id": "d884df9f-8595-4d59-b2a0-a79795812a5f",
   "metadata": {},
   "outputs": [
    {
     "name": "stdout",
     "output_type": "stream",
     "text": [
      "x_train_normed include 38 images, each of shape (4), range from 0.000 to 1.000\n",
      "x_test_normed include 10 images, each of shape (4), range from 0.001 to 1.000\n",
      "21 - 36.97136168072581\n",
      "42 - 40.132332969676916\n",
      "63 - 36.46819220520971\n",
      "84 - 35.64665409342175\n",
      "105 - 35.80418674717486\n",
      "126 - 34.59375882793228\n",
      "147 - 34.95848731204367\n",
      "168 - 34.972315222330586\n",
      "189 - 34.6013246379594\n",
      "210 - 35.05461130809996\n",
      "231 - 35.45631988792084\n",
      "252 - 34.48888725811072\n",
      "273 - 34.672502753711555\n",
      "294 - 34.97914314771239\n",
      "accuracy on the train set (size=38): 0.6052631578947368\n",
      "accuracy on the test set (size=10) 0.4\n"
     ]
    },
    {
     "data": {
      "text/plain": [
       "[<matplotlib.lines.Line2D at 0x7f45c873e910>]"
      ]
     },
     "execution_count": 26,
     "metadata": {},
     "output_type": "execute_result"
    },
    {
     "data": {
      "image/png": "[encoded data removed]",
      "text/plain": [
       "<Figure size 432x288 with 1 Axes>"
      ]
     },
     "metadata": {
      "needs_background": "light"
     },
     "output_type": "display_data"
    }
   ],
   "source": [
    "param = {'anti_aliasing':False, 'seed':None}\n",
    "param, train_accuracy, test_accuracy, loss_recorder = QNN_all_in_one(param)\n",
    "save_result(param=param, train_accuracy=train_accuracy, test_accuracy=test_accuracy, loss_recorder=loss_recorder)\n",
    "plt.plot(loss_recorder)"
   ]
  },
  {
   "cell_type": "markdown",
   "id": "4ef46419-611d-475f-8a0d-52e74c0ea72c",
   "metadata": {},
   "source": [
    "### compare `resize_image_size`\n",
    "\n",
    "for different `resize_image_size`, we have to use equal number of qubits `#qubit=height*width`\n",
    "\n",
    "`class_size=24` (total `48` samples)\n",
    "\n",
    "| `resize_image_size` | train-accuracy | test-accuracy |\n",
    "| :-: | :-: | :-: |\n",
    "| `(1,2)` | `0.842` | `0.7` |\n",
    "| `(2,1)` | `0.71` | `0.7` (diverge) |\n",
    "| `(2,2)` | `0.894` | `0.8` |\n",
    "| `(3,3)` | `0.947` | `0.8` |\n",
    "\n",
    "conclusion: model with more qubits might be better"
   ]
  },
  {
   "cell_type": "code",
   "execution_count": 30,
   "id": "b5443790-d803-4bf8-88e8-6ae038d021cd",
   "metadata": {},
   "outputs": [
    {
     "name": "stdout",
     "output_type": "stream",
     "text": [
      "x_train_normed include 38 images, each of shape (2), range from 0.000 to 1.000\n",
      "x_test_normed include 10 images, each of shape (2), range from 0.314 to 0.988\n",
      "21 - 29.535597305665405\n",
      "42 - 25.23635762308271\n",
      "63 - 21.364677289158383\n",
      "84 - 20.997069925669024\n",
      "105 - 20.107128833158576\n",
      "126 - 19.82172568267625\n",
      "147 - 19.50782364552782\n",
      "168 - 19.499445376258233\n",
      "189 - 19.04328181550771\n",
      "210 - 19.463797102722125\n",
      "231 - 18.99235801899114\n",
      "252 - 19.297598931418303\n",
      "273 - 18.432056444372442\n",
      "294 - 18.47836777176418\n",
      "accuracy on the train set (size=38): 0.8421052631578947\n",
      "accuracy on the test set (size=10) 0.7\n",
      "x_train_normed include 38 images, each of shape (2), range from 0.000 to 1.000\n",
      "x_test_normed include 10 images, each of shape (2), range from 0.361 to 0.987\n"
     ]
    },
    {
     "name": "stderr",
     "output_type": "stream",
     "text": [
      "/home/zhangc/miniconda3/envs/cuda113/lib/python3.9/site-packages/qiskit_machine_learning/utils/loss_functions/loss_functions.py:158: RuntimeWarning: divide by zero encountered in log2\n",
      "  val = -np.einsum(\"ij,ij->i\", target, np.log2(predict)).reshape(-1, 1)\n",
      "/home/zhangc/miniconda3/envs/cuda113/lib/python3.9/site-packages/qiskit/algorithms/optimizers/spsa.py:348: UserWarning: Calibration failed, using 0.6283185307179586 for `a`\n",
      "  warnings.warn(f\"Calibration failed, using {target_magnitude} for `a`\")\n"
     ]
    },
    {
     "name": "stdout",
     "output_type": "stream",
     "text": [
      "21 - 47.16335419474818\n",
      "42 - 33.13265609892715\n",
      "63 - 44.09867151718969\n",
      "84 - 34.44813463282164\n",
      "105 - 33.96717125463448\n",
      "126 - 31.37468015388672\n",
      "147 - 26.848286610636677\n",
      "168 - 32.306136404691166\n",
      "189 - 35.77018638884079\n",
      "210 - 39.226585619756285\n",
      "231 - 46.58830597379721\n",
      "252 - 29.151314177092917\n",
      "273 - 26.81260322357668\n",
      "294 - 46.3913524185238\n",
      "accuracy on the train set (size=38): 0.7105263157894737\n",
      "accuracy on the test set (size=10) 0.7\n",
      "x_train_normed include 38 images, each of shape (4), range from 0.000 to 1.000\n",
      "x_test_normed include 10 images, each of shape (4), range from 0.224 to 0.962\n",
      "21 - 39.90861414257271\n",
      "42 - 26.826043048495986\n",
      "63 - 26.2391757658665\n",
      "84 - 25.90348796456299\n",
      "105 - 25.65609101674254\n",
      "126 - 25.207625763188396\n",
      "147 - 25.17743209125653\n",
      "168 - 24.35089217733061\n",
      "189 - 23.648935098468936\n",
      "210 - 23.750075756037898\n",
      "231 - 23.762742835392203\n",
      "252 - 23.918091674467448\n",
      "273 - 23.654004466815433\n",
      "294 - 23.640897113889523\n",
      "accuracy on the train set (size=38): 0.8947368421052632\n",
      "accuracy on the test set (size=10) 0.8\n",
      "x_train_normed include 38 images, each of shape (9), range from 0.000 to 1.000\n",
      "x_test_normed include 10 images, each of shape (9), range from 0.298 to 0.997\n",
      "21 - 37.60366851800527\n",
      "42 - 32.13094448343432\n",
      "63 - 31.393161242704146\n",
      "84 - 28.291436449928952\n",
      "105 - 27.28316905930597\n",
      "126 - 26.010656086497917\n",
      "147 - 26.318646385127394\n",
      "168 - 25.241420957193746\n",
      "189 - 25.368999862744015\n",
      "210 - 24.683207455099318\n",
      "231 - 24.280207975452615\n",
      "252 - 24.193583669371655\n",
      "273 - 24.18540144845466\n",
      "294 - 23.970748449754353\n",
      "accuracy on the train set (size=38): 0.9473684210526315\n",
      "accuracy on the test set (size=10) 0.8\n"
     ]
    },
    {
     "data": {
      "text/plain": [
       "<matplotlib.legend.Legend at 0x7f44d8de56d0>"
      ]
     },
     "execution_count": 30,
     "metadata": {},
     "output_type": "execute_result"
    },
    {
     "data": {
      "image/png": "[encoded data removed]",
      "text/plain": [
       "<Figure size 432x288 with 1 Axes>"
      ]
     },
     "metadata": {
      "needs_background": "light"
     },
     "output_type": "display_data"
    }
   ],
   "source": [
    "param = {'anti_aliasing':True, 'feature_dim':2, 'resize_image_size':(1,2)}\n",
    "param, train_accuracy, test_accuracy, loss_1_2 = QNN_all_in_one(param)\n",
    "save_result(param=param, train_accuracy=train_accuracy, test_accuracy=test_accuracy, loss_recorder=loss_1_2)\n",
    "\n",
    "param = {'anti_aliasing':True, 'feature_dim':2, 'resize_image_size':(2,1)}\n",
    "param, train_accuracy, test_accuracy, loss_2_1 = QNN_all_in_one(param)\n",
    "save_result(param=param, train_accuracy=train_accuracy, test_accuracy=test_accuracy, loss_recorder=loss_2_1)\n",
    "# this one diverge\n",
    "\n",
    "param = {'anti_aliasing':True, 'feature_dim':4, 'resize_image_size':(2,2)}\n",
    "param, train_accuracy, test_accuracy, loss_2_2 = QNN_all_in_one(param)\n",
    "save_result(param=param, train_accuracy=train_accuracy, test_accuracy=test_accuracy, loss_recorder=loss_2_2)\n",
    "\n",
    "param = {'anti_aliasing':True, 'feature_dim':9, 'resize_image_size':(3,3)}\n",
    "param, train_accuracy, test_accuracy, loss_3_3 = QNN_all_in_one(param)\n",
    "save_result(param=param, train_accuracy=train_accuracy, test_accuracy=test_accuracy, loss_recorder=loss_3_3)\n",
    "\n",
    "fig,ax = plt.subplots()\n",
    "ax.plot(loss_1_2, label='height=1, width=2')\n",
    "ax.plot(loss_2_1, label='height=2, width=1')\n",
    "ax.plot(loss_2_2, label='height=2, width=2')\n",
    "ax.plot(loss_3_3, label='height=3, width=3')\n",
    "ax.legend()"
   ]
  },
  {
   "cell_type": "code",
   "execution_count": null,
   "id": "c2453abd-f841-41db-834d-48ad8cd13fe7",
   "metadata": {},
   "outputs": [],
   "source": []
  }
 ],
 "metadata": {
  "kernelspec": {
   "display_name": "Python 3 (ipykernel)",
   "language": "python",
   "name": "python3"
  },
  "language_info": {
   "codemirror_mode": {
    "name": "ipython",
    "version": 3
   },
   "file_extension": ".py",
   "mimetype": "text/x-python",
   "name": "python",
   "nbconvert_exporter": "python",
   "pygments_lexer": "ipython3",
   "version": "3.9.7"
  }
 },
 "nbformat": 4,
 "nbformat_minor": 5
}
